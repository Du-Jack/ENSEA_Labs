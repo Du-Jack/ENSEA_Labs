{
 "cells": [
  {
   "cell_type": "markdown",
   "metadata": {},
   "source": [
    "### DU Jack | SIA"
   ]
  },
  {
   "cell_type": "markdown",
   "metadata": {
    "id": "OTuy65mb_PTG"
   },
   "source": [
    "# Bayesian Networks\n",
    "\n",
    "This TP provides an excellent opportunity to gain further exposure to relevant topics and applications of Bayesian Networks (diagnosis, prediction, etc.).\n",
    "\n",
    "Objectives: Students will be able to:\n",
    "- Create Bayesian Networks.\n",
    "- Learn Bayesian Networks from real-world problems and datasets.\n",
    "- Determine inferences from Bayesian Networks.\n",
    "\n",
    "Technology Requirements:\n",
    "- Linux (windows user may install virtual machines)\n",
    "- Python 3.8 or higher (due to pgmpy compatibility)\n",
    "- Download and install pip and then install pgmpy:\n",
    "   `$ pip install pgmpy`\n",
    "- If the previous did not work, this can be done manually after downloading the code source:\n",
    "\n",
    "```\n",
    "$ git clone https://github.com/pgmpy/pgmpy\n",
    "$ cd pgmpy/\n",
    "$ sudo pip install -r requirements.txt\n",
    "$ sudo python setup.py install\n",
    "```\n",
    "\n",
    "\n",
    "*Note: if you encountered problems installing pip or pgmpy, refer to the pgmpy Installation Page: https://pgmpy.org/started/install.html"
   ]
  },
  {
   "cell_type": "code",
   "execution_count": 2,
   "metadata": {
    "id": "FSkoYvSr_iBB"
   },
   "outputs": [],
   "source": [
    "#!pip install pgmpy"
   ]
  },
  {
   "cell_type": "code",
   "execution_count": 3,
   "metadata": {
    "id": "cPwGKT9M_U09"
   },
   "outputs": [],
   "source": [
    "import pgmpy\n",
    "import pgmpy.models\n",
    "import pgmpy.inference\n",
    "import pgmpy.estimators\n",
    "import pgmpy.inference\n",
    "\n",
    "import networkx as nx\n",
    "import matplotlib.pyplot\n",
    "import xgboost\n",
    "\n",
    "import pandas as pd\n",
    "import time\n",
    "\n",
    "from sklearn.metrics import ConfusionMatrixDisplay, accuracy_score"
   ]
  },
  {
   "cell_type": "markdown",
   "metadata": {
    "id": "8P6-8jiA_Vo4"
   },
   "source": [
    "## Part 0: Building a model from scratch: Monty Hall Problem\n",
    "\n",
    "You might know about the famous Monty Hall, or three doors problem (https://en.wikipedia.org/wiki/Monty_Hall_problem). This is a TV game where a contestant $Contestant$ interacts with a host $Host$ to find a price $Price$ hidden behind one of three closed doors. The contestant makes a first choice of one door they would like to open. The host will then help the contestant by opening one of the doors, leaving the contestant to choose again amongst 2 doors. If the chosen door hides the price, the constestant wins.\n",
    "\n",
    "The host rules for choosing a door to open are:\n",
    " - never open the door behind which the price is hidden\n",
    " - never open the door chosen by the contestant\n",
    "\n",
    "A mathematician states: \"Selecting in the second step the door that wasn't chosen in the first step, has a 66% probability of granting the price to the contestant\". We want to use Bayesian Network modeling to affirm or infirm this statement.\n",
    "\n",
    "We will model this problem with a three states Bayesian Network.\n",
    " - $Contestant$ is a random variable with 3 possible values (the first chosen door by the contestant)\n",
    " - $Price$ is a random variable with 3 possible values (the price door)\n",
    " - $Host$ is a random variable with 3 possible values (the opened door by the host)\n",
    "\n",
    "The price is placed before the contestant make its first choice, and the contestant has no indication on its location.\n"
   ]
  },
  {
   "cell_type": "markdown",
   "metadata": {
    "id": "WUDU3pYfl3_x"
   },
   "source": [
    "**Question**: From your understanding of the statement, write the independence and conditional independence relations you expect about $Contestant, Price, Host$, in the form \"X indep Y\" or \"X indep Y | Z\". (*A relation \"X indep Y\" means that X and Y value are set independently, without any link or interaction. A relation \"X indep Y | Z\" means that X and Y have been chosen with respect to a same information which is the value of Z, but other than that, there is no further link between the value of X and Y.*)"
   ]
  },
  {
   "cell_type": "markdown",
   "metadata": {},
   "source": [
    "- Contestant indep Price\n",
    "- Host indep Contestant |Price\n",
    "- Host indep Price | Contestant"
   ]
  },
  {
   "cell_type": "markdown",
   "metadata": {
    "id": "XoCaeQlc_btl"
   },
   "source": [
    "**TODO 0.1** Instantiate an object you will name `monty_hall`, from the class `pgmpy.models.BayesianNetwork` (https://pgmpy.org/models/bayesiannetwork.html). Add edges with its `.add_edge` method, corresponding to each edge in the Monty Hall graph.\n",
    "\n",
    "Run the cell after to visualize the network."
   ]
  },
  {
   "cell_type": "code",
   "execution_count": 4,
   "metadata": {
    "id": "uOAEyxGI_Ybt"
   },
   "outputs": [],
   "source": [
    "# TODO\n",
    "monty_hall = pgmpy.models.BayesianNetwork()\n",
    "\n",
    "monty_hall.add_edge('Price', 'Host')\n",
    "monty_hall.add_edge('Contestant', 'Host')"
   ]
  },
  {
   "cell_type": "code",
   "execution_count": 5,
   "metadata": {
    "id": "Tbl7cvSo_7Sm"
   },
   "outputs": [
    {
     "data": {
      "image/png": "[encoded data removed]",
      "text/plain": [
       "<Figure size 640x480 with 1 Axes>"
      ]
     },
     "metadata": {},
     "output_type": "display_data"
    }
   ],
   "source": [
    "# RUN THIS CELL\n",
    "\n",
    "def plot_bayesian_network(bn):\n",
    "\n",
    "    # Convert to a directed graph for visualization\n",
    "    G = nx.DiGraph(bn.edges())\n",
    "\n",
    "    # Draw the graph\n",
    "    nx.draw(G, with_labels=True, pos=nx.circular_layout(G))\n",
    "\n",
    "plot_bayesian_network(monty_hall)"
   ]
  },
  {
   "cell_type": "markdown",
   "metadata": {
    "id": "H0CV8GejnTEu"
   },
   "source": [
    "**TODO 0.2**: BayesianNetwork objects have a method that allows to find automatically the independence relations: `.get_independencies` (https://pgmpy.org/base/base.html). Verify that the relations encoded in the network match your answer to the first question.\n",
    "\n",
    "If the relations differ, try to explain your reasoning (no point will be deducted for an explained incorrect answer)."
   ]
  },
  {
   "cell_type": "code",
   "execution_count": 6,
   "metadata": {
    "id": "_fw7IOrSo6ua"
   },
   "outputs": [
    {
     "data": {
      "text/plain": [
       "(Price ⟂ Contestant)\n",
       "(Contestant ⟂ Price)"
      ]
     },
     "execution_count": 6,
     "metadata": {},
     "output_type": "execute_result"
    }
   ],
   "source": [
    "# TODO\n",
    "monty_hall.get_independencies()"
   ]
  },
  {
   "cell_type": "markdown",
   "metadata": {},
   "source": [
    "Price and Contestant are correctly independant regarding the Monty Hall problem. <br>\n",
    "- Price is randomly set behind a door.\n",
    "- Contestant also randomly choose a door without having any information of the position of the price.\n",
    "\n",
    "In the end, relations does not differ. However, Host is indeed dependant of Price and Contestant. "
   ]
  },
  {
   "cell_type": "markdown",
   "metadata": {
    "id": "36gFc4kfA369"
   },
   "source": [
    "Since we have specified the structure of the bayesian network in `monty_hall`, we must now provide the conditional probability distribution.\n",
    "\n",
    "We assume that both $Contestant$ and $Price$ are chosen randomly (with probability uniformly $\\frac13$).\n",
    "\n",
    "**TODO 0.3** Use `pgmpy.factors.discrete.CPD.TabularCPD` (https://pgmpy.org/factors/discrete.html) to specify the conditional probability distribution of $Contestant$ and of $Price$. Name the TabularCPD of \"Contestant\" as `cpd_c` and \"Price\" as `cpd_p`.\n",
    "\n",
    "Hint: a coin toss can be modeled by `TabularCPD(\"coin_toss\", 2, [[0.5], [0.5]])`\n",
    "\n",
    "The name of each variable (in first argument) must be identical to the corresponding node in the BayesianNetwork graph `montly_hall`."
   ]
  },
  {
   "cell_type": "code",
   "execution_count": 7,
   "metadata": {
    "id": "JE-jv1okAfhp"
   },
   "outputs": [
    {
     "name": "stdout",
     "output_type": "stream",
     "text": [
      "CPD for Contestant:\n",
      "+---------------+----------+\n",
      "| Contestant(0) | 0.333333 |\n",
      "+---------------+----------+\n",
      "| Contestant(1) | 0.333333 |\n",
      "+---------------+----------+\n",
      "| Contestant(2) | 0.333333 |\n",
      "+---------------+----------+\n",
      "\n",
      "CPD for Price:\n",
      "+----------+----------+\n",
      "| Price(0) | 0.333333 |\n",
      "+----------+----------+\n",
      "| Price(1) | 0.333333 |\n",
      "+----------+----------+\n",
      "| Price(2) | 0.333333 |\n",
      "+----------+----------+\n"
     ]
    }
   ],
   "source": [
    "# TODO\n",
    "from pgmpy.factors.discrete import TabularCPD\n",
    "\n",
    "cpd_c = TabularCPD(\"Contestant\", 3, [[1/3], [1/3], [1/3]])\n",
    "\n",
    "cpd_p = TabularCPD(\"Price\", 3, [[1/3], [1/3], [1/3]])\n",
    "\n",
    "# Output the CPDs\n",
    "print(\"CPD for Contestant:\")\n",
    "print(cpd_c)\n",
    "print(\"\\nCPD for Price:\")\n",
    "print(cpd_p)"
   ]
  },
  {
   "cell_type": "markdown",
   "metadata": {
    "id": "H7uGDIzYFaI8"
   },
   "source": [
    "Run the following cell."
   ]
  },
  {
   "cell_type": "code",
   "execution_count": 8,
   "metadata": {
    "id": "vHeq95-QLIjv"
   },
   "outputs": [
    {
     "name": "stdout",
     "output_type": "stream",
     "text": [
      "+------------+---------------+---------------+---------------+---------------+---------------+---------------+---------------+---------------+---------------+\n",
      "| Contestant | Contestant(0) | Contestant(0) | Contestant(0) | Contestant(1) | Contestant(1) | Contestant(1) | Contestant(2) | Contestant(2) | Contestant(2) |\n",
      "+------------+---------------+---------------+---------------+---------------+---------------+---------------+---------------+---------------+---------------+\n",
      "| Price      | Price(0)      | Price(1)      | Price(2)      | Price(0)      | Price(1)      | Price(2)      | Price(0)      | Price(1)      | Price(2)      |\n",
      "+------------+---------------+---------------+---------------+---------------+---------------+---------------+---------------+---------------+---------------+\n",
      "| Host(0)    | 0.0           | 0.0           | 0.0           | 0.0           | 0.5           | 1.0           | 0.0           | 1.0           | 0.5           |\n",
      "+------------+---------------+---------------+---------------+---------------+---------------+---------------+---------------+---------------+---------------+\n",
      "| Host(1)    | 0.5           | 0.0           | 1.0           | 0.0           | 0.0           | 0.0           | 1.0           | 0.0           | 0.5           |\n",
      "+------------+---------------+---------------+---------------+---------------+---------------+---------------+---------------+---------------+---------------+\n",
      "| Host(2)    | 0.5           | 1.0           | 0.0           | 1.0           | 0.5           | 0.0           | 0.0           | 0.0           | 0.0           |\n",
      "+------------+---------------+---------------+---------------+---------------+---------------+---------------+---------------+---------------+---------------+\n"
     ]
    }
   ],
   "source": [
    "# RUN THIS CELL\n",
    "\n",
    "cpd_h = pgmpy.factors.discrete.CPD.TabularCPD(\"Host\",3,\n",
    "    [\n",
    "        [0, 0, 0, 0, 0.5, 1, 0, 1, 0.5],  #Host=0\n",
    "        [0.5, 0, 1, 0, 0, 0, 1, 0, 0.5],  #Host=1\n",
    "        [0.5, 1, 0, 1, 0.5, 0, 0, 0, 0],  #Host=2\n",
    "    ],\n",
    "    evidence=[\"Contestant\", \"Price\"],\n",
    "    evidence_card=[3, 3])\n",
    "\n",
    "cpd_h._truncate_strtable = lambda x: x  # prevents table truncating\n",
    "print(cpd_h)"
   ]
  },
  {
   "cell_type": "markdown",
   "metadata": {
    "id": "RXQS08U5MivD"
   },
   "source": [
    "**Question**: *From the table, what is the value of $\\mathbb{P}(Host=0 | Contestant=1, Price=2)$? How do you interpret this value with respect to the problem setting?*\n",
    "\n",
    "The probability is equal to: <br>\n",
    "**$\\mathbb{P}(Host=0 | Contestant=1, Price=2)$ = 1**\n",
    "This is the probability that Host always choose the door '0' if the price is on door '2' and that Contestant firstly choose the door '1'. Due to the rules of the game, this is always the case and this probability is right.\n",
    "\n",
    "**Question**: *How many numerical parameters in total were created to build this Bayesian Network? How many would be needed to create the entire joint probability table of $\\mathbb{P}(Contestant, Price, Host)$?* \n",
    "- 2 are needed for Contestant and Price, the 3rd could be find by normalization as we have a probability system. \n",
    "However, for Host, as it's dependant of Price and Contestant, the system is defined as 3*3 = 9 outputs, and the system can be defined as 9*2 = 18 parameters. (the 3rd can be as the others defined by normalization). In total, there are 18+2+2 = 22 numerical parameters to create the Bayesian Network.\n",
    "\n",
    "- To create the entire joint probability table, we would need 27 parameters in total as it is seen above.\n"
   ]
  },
  {
   "cell_type": "markdown",
   "metadata": {
    "id": "iToJAre2FhAo"
   },
   "source": [
    "Run the following cell to add the probability tables to the `monty_hall` object."
   ]
  },
  {
   "cell_type": "code",
   "execution_count": 9,
   "metadata": {
    "id": "cgfylxk6NCBb"
   },
   "outputs": [],
   "source": [
    "# RUN THIS CELL\n",
    "\n",
    "# We now add the conditional probability distributions (cpd) to the bayesian network.\n",
    "\n",
    "monty_hall.add_cpds(cpd_c, cpd_p, cpd_h)\n",
    "\n",
    "# Verify that the model is correctly specified\n",
    "\n",
    "assert monty_hall.check_model()"
   ]
  },
  {
   "cell_type": "markdown",
   "metadata": {
    "id": "9Ch51cZkNet9"
   },
   "source": [
    "If the previous cell throws an error, you may have mispecified either the monty_hall graph (todo 0.1) or the CPD of $Contestant$ and $Price$ (todo 0.3).\n",
    "\n",
    "You can check how `check_model` verifies the BayesianNetwork in its documentation (https://pgmpy.org/models/bayesiannetwork.html)"
   ]
  },
  {
   "cell_type": "markdown",
   "metadata": {
    "id": "pvAC2JY3OJsm"
   },
   "source": [
    "### Application\n",
    "\n",
    "Suppose that you, as a contestant, have chosen $Contestant=0$ as your first guess.\n",
    "\n",
    "The host might open door $Host=1$, or $Host=2$ as a result (but never door $0$ as it was chosen by the contestant).\n",
    "\n",
    "**TODO 0.4** Using `pgmpy.inference.ExactInference.VariableElimination` (https://pgmpy.org/exact_infer/ve.html), compute the exact conditional probability distribution of $\\mathbb{P}(Price|Contestant=0,Host=1)$ and $\\mathbb{P}(Price|Contestant=0,Host=2)$.\n",
    "\n",
    "Once a VariableElimination object has been set, you can use the class method `VariableElimination.query` with adequate `variables` and `evidence` parameters. The remaining arguments can be set to their default values."
   ]
  },
  {
   "cell_type": "code",
   "execution_count": 10,
   "metadata": {
    "id": "M2C-oiySOqSP"
   },
   "outputs": [
    {
     "name": "stdout",
     "output_type": "stream",
     "text": [
      "P(Price | Contestant=0, Host=1):\n",
      "+----------+--------------+\n",
      "| Price    |   phi(Price) |\n",
      "+==========+==============+\n",
      "| Price(0) |       0.3333 |\n",
      "+----------+--------------+\n",
      "| Price(1) |       0.0000 |\n",
      "+----------+--------------+\n",
      "| Price(2) |       0.6667 |\n",
      "+----------+--------------+\n",
      "\n",
      "P(Price | Contestant=0, Host=2):\n",
      "+----------+--------------+\n",
      "| Price    |   phi(Price) |\n",
      "+==========+==============+\n",
      "| Price(0) |       0.3333 |\n",
      "+----------+--------------+\n",
      "| Price(1) |       0.6667 |\n",
      "+----------+--------------+\n",
      "| Price(2) |       0.0000 |\n",
      "+----------+--------------+\n"
     ]
    }
   ],
   "source": [
    "from pgmpy.inference import VariableElimination\n",
    "\n",
    "inference = pgmpy.inference.ExactInference.VariableElimination(monty_hall)\n",
    "\n",
    "# TODO\n",
    "# Create the VariableElimination object\n",
    "inference = VariableElimination(monty_hall)\n",
    "\n",
    "# Query for P(Price | Contestant=0, Host=1)\n",
    "result_1 = inference.query(variables=['Price'], evidence={'Contestant': 0, 'Host': 1})\n",
    "print(\"P(Price | Contestant=0, Host=1):\")\n",
    "print(result_1)\n",
    "\n",
    "# Query for P(Price | Contestant=0, Host=2)\n",
    "result_2 = inference.query(variables=['Price'], evidence={'Contestant': 0, 'Host': 2})\n",
    "print(\"\\nP(Price | Contestant=0, Host=2):\")\n",
    "print(result_2)\n"
   ]
  },
  {
   "cell_type": "markdown",
   "metadata": {
    "id": "KiaqueGYTfYg"
   },
   "source": [
    "**Question**: According to the two result tables, should you maintain your choice of door $Contestant=0$, or select the remaining door?\n",
    "\n",
    "- When Host=1, the probabilities indicate that if the host opens door 1, the probability that the prize is behind door 2 is significantly higher (66.67%) compared to door 0 (33.33%). Thus, switching to door 2 would be the better option since it has a higher chance of winning the prize.\n",
    "- When Host=2, in this case, if the host opens door 2, the probability that the prize is behind door 1 is higher (66.67%) compared to door 0 (33.33%). Therefore, switching to door 1 would also be the better option.\n",
    "\n",
    "&#8594; In both scenarios, switching to the remaining unopened door (either door 1 or door 2, depending on what the host opens) is statistically the better choice.\n",
    "\n",
    "**Question**: Even though the contestant final choice has one of two doors, why are the probability of success not (0.5, 0.5)?\n",
    "\n",
    "The host knows where the prize is and will always open a door that does not have the prize and is not the contestant's choice. This action gives additional information about the remaining doors. The probability of winning by switching is actually 2/3, while the probability of winning by sticking with the original choice remains 1/3.\n",
    "\n"
   ]
  },
  {
   "cell_type": "markdown",
   "metadata": {
    "id": "mJuWEEfYAkx1"
   },
   "source": [
    "## Part 1: Bayesian Modeling of a credit risk dataset\n",
    "\n",
    "This part is dedicated to learning a Bayesian model (graph and distribution) to model Credit risk in Germany. In this part, we will not specify the structure by hand, instead it will be learned from the data.\n",
    "\n",
    "We will see how to:\n",
    " - open and inspect a dataset as a DataFrame\n",
    " - handle missing values with and without domain knowledge\n",
    " - apply binning to variables with lots of possible values with and without domain knowledge\n",
    " - separate data into training and validation sets\n",
    "\n",
    "First, run the following cell to open the data in the form of a `pandas.DataFrame`."
   ]
  },
  {
   "cell_type": "code",
   "execution_count": 11,
   "metadata": {
    "id": "8e4QFu4-VhKY"
   },
   "outputs": [
    {
     "data": {
      "text/html": [
       "<div>\n",
       "<style scoped>\n",
       "    .dataframe tbody tr th:only-of-type {\n",
       "        vertical-align: middle;\n",
       "    }\n",
       "\n",
       "    .dataframe tbody tr th {\n",
       "        vertical-align: top;\n",
       "    }\n",
       "\n",
       "    .dataframe thead th {\n",
       "        text-align: right;\n",
       "    }\n",
       "</style>\n",
       "<table border=\"1\" class=\"dataframe\">\n",
       "  <thead>\n",
       "    <tr style=\"text-align: right;\">\n",
       "      <th></th>\n",
       "      <th>Credit History</th>\n",
       "      <th>Age</th>\n",
       "      <th>Gender</th>\n",
       "      <th>Job</th>\n",
       "      <th>Housing</th>\n",
       "      <th>Saving accounts</th>\n",
       "      <th>Credit amount</th>\n",
       "      <th>Duration</th>\n",
       "      <th>Purpose</th>\n",
       "      <th>Risk</th>\n",
       "    </tr>\n",
       "  </thead>\n",
       "  <tbody>\n",
       "    <tr>\n",
       "      <th>0</th>\n",
       "      <td>4</td>\n",
       "      <td>67</td>\n",
       "      <td>male</td>\n",
       "      <td>2</td>\n",
       "      <td>own</td>\n",
       "      <td>NaN</td>\n",
       "      <td>1169</td>\n",
       "      <td>6</td>\n",
       "      <td>radio/TV</td>\n",
       "      <td>good</td>\n",
       "    </tr>\n",
       "    <tr>\n",
       "      <th>1</th>\n",
       "      <td>2</td>\n",
       "      <td>22</td>\n",
       "      <td>female</td>\n",
       "      <td>2</td>\n",
       "      <td>own</td>\n",
       "      <td>little</td>\n",
       "      <td>5951</td>\n",
       "      <td>48</td>\n",
       "      <td>radio/TV</td>\n",
       "      <td>bad</td>\n",
       "    </tr>\n",
       "    <tr>\n",
       "      <th>2</th>\n",
       "      <td>4</td>\n",
       "      <td>49</td>\n",
       "      <td>male</td>\n",
       "      <td>1</td>\n",
       "      <td>own</td>\n",
       "      <td>little</td>\n",
       "      <td>2096</td>\n",
       "      <td>12</td>\n",
       "      <td>education</td>\n",
       "      <td>good</td>\n",
       "    </tr>\n",
       "    <tr>\n",
       "      <th>3</th>\n",
       "      <td>2</td>\n",
       "      <td>45</td>\n",
       "      <td>male</td>\n",
       "      <td>2</td>\n",
       "      <td>free</td>\n",
       "      <td>little</td>\n",
       "      <td>7882</td>\n",
       "      <td>42</td>\n",
       "      <td>furniture/equipment</td>\n",
       "      <td>good</td>\n",
       "    </tr>\n",
       "    <tr>\n",
       "      <th>4</th>\n",
       "      <td>3</td>\n",
       "      <td>53</td>\n",
       "      <td>male</td>\n",
       "      <td>2</td>\n",
       "      <td>free</td>\n",
       "      <td>little</td>\n",
       "      <td>4870</td>\n",
       "      <td>24</td>\n",
       "      <td>car</td>\n",
       "      <td>bad</td>\n",
       "    </tr>\n",
       "    <tr>\n",
       "      <th>...</th>\n",
       "      <td>...</td>\n",
       "      <td>...</td>\n",
       "      <td>...</td>\n",
       "      <td>...</td>\n",
       "      <td>...</td>\n",
       "      <td>...</td>\n",
       "      <td>...</td>\n",
       "      <td>...</td>\n",
       "      <td>...</td>\n",
       "      <td>...</td>\n",
       "    </tr>\n",
       "    <tr>\n",
       "      <th>995</th>\n",
       "      <td>2</td>\n",
       "      <td>31</td>\n",
       "      <td>female</td>\n",
       "      <td>1</td>\n",
       "      <td>own</td>\n",
       "      <td>little</td>\n",
       "      <td>1736</td>\n",
       "      <td>12</td>\n",
       "      <td>furniture/equipment</td>\n",
       "      <td>good</td>\n",
       "    </tr>\n",
       "    <tr>\n",
       "      <th>996</th>\n",
       "      <td>2</td>\n",
       "      <td>40</td>\n",
       "      <td>male</td>\n",
       "      <td>3</td>\n",
       "      <td>own</td>\n",
       "      <td>little</td>\n",
       "      <td>3857</td>\n",
       "      <td>30</td>\n",
       "      <td>car</td>\n",
       "      <td>good</td>\n",
       "    </tr>\n",
       "    <tr>\n",
       "      <th>997</th>\n",
       "      <td>2</td>\n",
       "      <td>38</td>\n",
       "      <td>male</td>\n",
       "      <td>2</td>\n",
       "      <td>own</td>\n",
       "      <td>little</td>\n",
       "      <td>804</td>\n",
       "      <td>12</td>\n",
       "      <td>radio/TV</td>\n",
       "      <td>good</td>\n",
       "    </tr>\n",
       "    <tr>\n",
       "      <th>998</th>\n",
       "      <td>2</td>\n",
       "      <td>23</td>\n",
       "      <td>male</td>\n",
       "      <td>2</td>\n",
       "      <td>free</td>\n",
       "      <td>little</td>\n",
       "      <td>1845</td>\n",
       "      <td>45</td>\n",
       "      <td>radio/TV</td>\n",
       "      <td>bad</td>\n",
       "    </tr>\n",
       "    <tr>\n",
       "      <th>999</th>\n",
       "      <td>4</td>\n",
       "      <td>27</td>\n",
       "      <td>male</td>\n",
       "      <td>2</td>\n",
       "      <td>own</td>\n",
       "      <td>moderate</td>\n",
       "      <td>4576</td>\n",
       "      <td>45</td>\n",
       "      <td>car</td>\n",
       "      <td>good</td>\n",
       "    </tr>\n",
       "  </tbody>\n",
       "</table>\n",
       "<p>1000 rows × 10 columns</p>\n",
       "</div>"
      ],
      "text/plain": [
       "     Credit History  Age  Gender  Job Housing Saving accounts  Credit amount  \\\n",
       "0                 4   67    male    2     own             NaN           1169   \n",
       "1                 2   22  female    2     own          little           5951   \n",
       "2                 4   49    male    1     own          little           2096   \n",
       "3                 2   45    male    2    free          little           7882   \n",
       "4                 3   53    male    2    free          little           4870   \n",
       "..              ...  ...     ...  ...     ...             ...            ...   \n",
       "995               2   31  female    1     own          little           1736   \n",
       "996               2   40    male    3     own          little           3857   \n",
       "997               2   38    male    2     own          little            804   \n",
       "998               2   23    male    2    free          little           1845   \n",
       "999               4   27    male    2     own        moderate           4576   \n",
       "\n",
       "     Duration              Purpose  Risk  \n",
       "0           6             radio/TV  good  \n",
       "1          48             radio/TV   bad  \n",
       "2          12            education  good  \n",
       "3          42  furniture/equipment  good  \n",
       "4          24                  car   bad  \n",
       "..        ...                  ...   ...  \n",
       "995        12  furniture/equipment  good  \n",
       "996        30                  car  good  \n",
       "997        12             radio/TV  good  \n",
       "998        45             radio/TV   bad  \n",
       "999        45                  car  good  \n",
       "\n",
       "[1000 rows x 10 columns]"
      ]
     },
     "execution_count": 11,
     "metadata": {},
     "output_type": "execute_result"
    }
   ],
   "source": [
    "german_credit = pd.read_csv(\"https://raw.githubusercontent.com/vidhi-chugh/tds_articles/master/pgmpy_WICDS/german_credit.csv\")\n",
    "german_credit"
   ]
  },
  {
   "cell_type": "markdown",
   "metadata": {
    "id": "jqqKV5ZaWLxJ"
   },
   "source": [
    "**Question**: *What do rows represent? What do columns represent?*\n",
    "\n",
    "&#8594; Rows represent 1 individual person of the study. <br>\n",
    "Columns represent different financial life parameters that are used for credit application : Credit History, Age, Gender, Job, Housing,\tSaving accounts, Credit amount, Duration, Purpose, Risk. \n",
    "\n",
    "**Question**: *What is the name (in the data) of the variable that we want to model?* <br>\n",
    "\n",
    "&#8594; We want to model the variable ***Risk***.\n",
    "\n",
    "**Question**: *Are there categorical variables? Continuous? Discrete?*\n",
    "\n",
    "&#8594;\n",
    "- Credit History: Discrete (Number of previous credits, integer value).\n",
    "- Age: Discrete (although sometimes it may be binned into categories, age itself is a discrete variable with only integers).\n",
    "- Gender: Categorical (male, female, etc.).\n",
    "- Job: Discrete (Number of previous different jobs, a growing number, an integer from 0 to 10+.).\n",
    "- Housing: Categorical (e.g., \"own\", \"rent\", \"free\").\n",
    "- Saving accounts: Categorical (different categories of saving account status, like \"little\", \"moderate\", etc.).\n",
    "- Credit amount: Discrete (since it represents a monetary amount in integer).\n",
    "- Duration: Discrete (time periods are often considered continuous but here it's an integer value of year).\n",
    "- Purpose: Categorical (it describes the reason for the credit, like \"car\", \"home\", etc.).\n",
    "- Risk: Categorical (usually reflects whether the loan is considered \"high risk\" or \"low risk\")."
   ]
  },
  {
   "cell_type": "markdown",
   "metadata": {
    "id": "7KBTUKImYCDG"
   },
   "source": [
    "### Data Preparation\n",
    "\n",
    "Before we can use the dataset to model credit risk, we must prepare the data to ensure that it can be used properly. This generally involves three steps.\n",
    " - Ensuring that there are no missing values\n",
    " - Ensuring that all columns have a type that allows Bayesian Network structure learning and estimation. Specifically, all variables should be discrete, with a sufficiently low number of possible values (https://pgmpy.org/index.html).\n",
    " - Separing the data into training and validation sets. The training set is used for structure learning and parameter estimation. The validation set is used to compare different learned models on a prediction task.\n",
    "\n",
    "\n",
    "We will first handle missing (NaN) values.\n",
    "- A domain expert tells us that missing values in `\"Saving accounts\"` are valid. A NaN values show that the credit seeker does not have a saving account. We will replace this value by `\"no account\"`."
   ]
  },
  {
   "cell_type": "code",
   "execution_count": 12,
   "metadata": {
    "id": "Gpz1mf4haUp1"
   },
   "outputs": [
    {
     "name": "stdout",
     "output_type": "stream",
     "text": [
      "Missing values per column:\n",
      "Credit History       0\n",
      "Age                  0\n",
      "Gender               0\n",
      "Job                  0\n",
      "Housing              0\n",
      "Saving accounts    183\n",
      "Credit amount        0\n",
      "Duration             0\n",
      "Purpose              0\n",
      "Risk                 0\n",
      "dtype: int64\n"
     ]
    }
   ],
   "source": [
    "# RUN THIS CELL\n",
    "\n",
    "# in this cell, german_credit['Saving accounts'].isnull() provides the index table of all null saving account rows.\n",
    "# then, german_credit.loc[... ,'Saving accounts'] select the cells to be set to the value \"no account\"\n",
    "\n",
    "# Check for missing values in each column\n",
    "missing_values = german_credit.isnull().sum(axis=0)\n",
    "print(\"Missing values per column:\")\n",
    "print(missing_values)\n",
    "\n",
    "\n",
    "german_credit.loc[german_credit['Saving accounts'].isnull(), 'Saving accounts'] = 'no account'"
   ]
  },
  {
   "cell_type": "markdown",
   "metadata": {
    "id": "vcmhXZqbaaAD"
   },
   "source": [
    "**TODO 1.1**: Is there any other column with missing values? You can use the `DataFrame.isnull()` method to check if a value is null, and the `DataFrame.sum(axis=0)` method to get the number of nonzero values in each column.\n",
    "\n",
    "(https://pandas.pydata.org/docs/reference/api/pandas.DataFrame.isnull.html)\n",
    "(https://pandas.pydata.org/docs/reference/api/pandas.DataFrame.sum.html)\n",
    "\n",
    "If there is any missing value remaining, remove the corresponding rows from the DataFrame, using the `.dropna()` method.\n",
    "\n",
    "(https://pandas.pydata.org/docs/reference/api/pandas.DataFrame.dropna.html)"
   ]
  },
  {
   "cell_type": "code",
   "execution_count": 13,
   "metadata": {
    "id": "ykUo6FICa5WB"
   },
   "outputs": [
    {
     "name": "stdout",
     "output_type": "stream",
     "text": [
      "Missing values per column:\n",
      "Credit History     0\n",
      "Age                0\n",
      "Gender             0\n",
      "Job                0\n",
      "Housing            0\n",
      "Saving accounts    0\n",
      "Credit amount      0\n",
      "Duration           0\n",
      "Purpose            0\n",
      "Risk               0\n",
      "dtype: int64\n"
     ]
    }
   ],
   "source": [
    "# TODO\n",
    "\n",
    "# Check for missing values in each column\n",
    "missing_values = german_credit.isnull().sum(axis=0)\n",
    "print(\"Missing values per column:\")\n",
    "print(missing_values)\n",
    "\n",
    "# Drop rows with any remaining missing values\n",
    "german_credit = german_credit.dropna()"
   ]
  },
  {
   "cell_type": "code",
   "execution_count": 14,
   "metadata": {},
   "outputs": [
    {
     "data": {
      "text/html": [
       "<div>\n",
       "<style scoped>\n",
       "    .dataframe tbody tr th:only-of-type {\n",
       "        vertical-align: middle;\n",
       "    }\n",
       "\n",
       "    .dataframe tbody tr th {\n",
       "        vertical-align: top;\n",
       "    }\n",
       "\n",
       "    .dataframe thead th {\n",
       "        text-align: right;\n",
       "    }\n",
       "</style>\n",
       "<table border=\"1\" class=\"dataframe\">\n",
       "  <thead>\n",
       "    <tr style=\"text-align: right;\">\n",
       "      <th></th>\n",
       "      <th>Credit History</th>\n",
       "      <th>Age</th>\n",
       "      <th>Gender</th>\n",
       "      <th>Job</th>\n",
       "      <th>Housing</th>\n",
       "      <th>Saving accounts</th>\n",
       "      <th>Credit amount</th>\n",
       "      <th>Duration</th>\n",
       "      <th>Purpose</th>\n",
       "      <th>Risk</th>\n",
       "    </tr>\n",
       "  </thead>\n",
       "  <tbody>\n",
       "    <tr>\n",
       "      <th>0</th>\n",
       "      <td>4</td>\n",
       "      <td>67</td>\n",
       "      <td>male</td>\n",
       "      <td>2</td>\n",
       "      <td>own</td>\n",
       "      <td>no account</td>\n",
       "      <td>1169</td>\n",
       "      <td>6</td>\n",
       "      <td>radio/TV</td>\n",
       "      <td>good</td>\n",
       "    </tr>\n",
       "    <tr>\n",
       "      <th>1</th>\n",
       "      <td>2</td>\n",
       "      <td>22</td>\n",
       "      <td>female</td>\n",
       "      <td>2</td>\n",
       "      <td>own</td>\n",
       "      <td>little</td>\n",
       "      <td>5951</td>\n",
       "      <td>48</td>\n",
       "      <td>radio/TV</td>\n",
       "      <td>bad</td>\n",
       "    </tr>\n",
       "    <tr>\n",
       "      <th>2</th>\n",
       "      <td>4</td>\n",
       "      <td>49</td>\n",
       "      <td>male</td>\n",
       "      <td>1</td>\n",
       "      <td>own</td>\n",
       "      <td>little</td>\n",
       "      <td>2096</td>\n",
       "      <td>12</td>\n",
       "      <td>education</td>\n",
       "      <td>good</td>\n",
       "    </tr>\n",
       "    <tr>\n",
       "      <th>3</th>\n",
       "      <td>2</td>\n",
       "      <td>45</td>\n",
       "      <td>male</td>\n",
       "      <td>2</td>\n",
       "      <td>free</td>\n",
       "      <td>little</td>\n",
       "      <td>7882</td>\n",
       "      <td>42</td>\n",
       "      <td>furniture/equipment</td>\n",
       "      <td>good</td>\n",
       "    </tr>\n",
       "    <tr>\n",
       "      <th>4</th>\n",
       "      <td>3</td>\n",
       "      <td>53</td>\n",
       "      <td>male</td>\n",
       "      <td>2</td>\n",
       "      <td>free</td>\n",
       "      <td>little</td>\n",
       "      <td>4870</td>\n",
       "      <td>24</td>\n",
       "      <td>car</td>\n",
       "      <td>bad</td>\n",
       "    </tr>\n",
       "    <tr>\n",
       "      <th>...</th>\n",
       "      <td>...</td>\n",
       "      <td>...</td>\n",
       "      <td>...</td>\n",
       "      <td>...</td>\n",
       "      <td>...</td>\n",
       "      <td>...</td>\n",
       "      <td>...</td>\n",
       "      <td>...</td>\n",
       "      <td>...</td>\n",
       "      <td>...</td>\n",
       "    </tr>\n",
       "    <tr>\n",
       "      <th>995</th>\n",
       "      <td>2</td>\n",
       "      <td>31</td>\n",
       "      <td>female</td>\n",
       "      <td>1</td>\n",
       "      <td>own</td>\n",
       "      <td>little</td>\n",
       "      <td>1736</td>\n",
       "      <td>12</td>\n",
       "      <td>furniture/equipment</td>\n",
       "      <td>good</td>\n",
       "    </tr>\n",
       "    <tr>\n",
       "      <th>996</th>\n",
       "      <td>2</td>\n",
       "      <td>40</td>\n",
       "      <td>male</td>\n",
       "      <td>3</td>\n",
       "      <td>own</td>\n",
       "      <td>little</td>\n",
       "      <td>3857</td>\n",
       "      <td>30</td>\n",
       "      <td>car</td>\n",
       "      <td>good</td>\n",
       "    </tr>\n",
       "    <tr>\n",
       "      <th>997</th>\n",
       "      <td>2</td>\n",
       "      <td>38</td>\n",
       "      <td>male</td>\n",
       "      <td>2</td>\n",
       "      <td>own</td>\n",
       "      <td>little</td>\n",
       "      <td>804</td>\n",
       "      <td>12</td>\n",
       "      <td>radio/TV</td>\n",
       "      <td>good</td>\n",
       "    </tr>\n",
       "    <tr>\n",
       "      <th>998</th>\n",
       "      <td>2</td>\n",
       "      <td>23</td>\n",
       "      <td>male</td>\n",
       "      <td>2</td>\n",
       "      <td>free</td>\n",
       "      <td>little</td>\n",
       "      <td>1845</td>\n",
       "      <td>45</td>\n",
       "      <td>radio/TV</td>\n",
       "      <td>bad</td>\n",
       "    </tr>\n",
       "    <tr>\n",
       "      <th>999</th>\n",
       "      <td>4</td>\n",
       "      <td>27</td>\n",
       "      <td>male</td>\n",
       "      <td>2</td>\n",
       "      <td>own</td>\n",
       "      <td>moderate</td>\n",
       "      <td>4576</td>\n",
       "      <td>45</td>\n",
       "      <td>car</td>\n",
       "      <td>good</td>\n",
       "    </tr>\n",
       "  </tbody>\n",
       "</table>\n",
       "<p>1000 rows × 10 columns</p>\n",
       "</div>"
      ],
      "text/plain": [
       "     Credit History  Age  Gender  Job Housing Saving accounts  Credit amount  \\\n",
       "0                 4   67    male    2     own      no account           1169   \n",
       "1                 2   22  female    2     own          little           5951   \n",
       "2                 4   49    male    1     own          little           2096   \n",
       "3                 2   45    male    2    free          little           7882   \n",
       "4                 3   53    male    2    free          little           4870   \n",
       "..              ...  ...     ...  ...     ...             ...            ...   \n",
       "995               2   31  female    1     own          little           1736   \n",
       "996               2   40    male    3     own          little           3857   \n",
       "997               2   38    male    2     own          little            804   \n",
       "998               2   23    male    2    free          little           1845   \n",
       "999               4   27    male    2     own        moderate           4576   \n",
       "\n",
       "     Duration              Purpose  Risk  \n",
       "0           6             radio/TV  good  \n",
       "1          48             radio/TV   bad  \n",
       "2          12            education  good  \n",
       "3          42  furniture/equipment  good  \n",
       "4          24                  car   bad  \n",
       "..        ...                  ...   ...  \n",
       "995        12  furniture/equipment  good  \n",
       "996        30                  car  good  \n",
       "997        12             radio/TV  good  \n",
       "998        45             radio/TV   bad  \n",
       "999        45                  car  good  \n",
       "\n",
       "[1000 rows x 10 columns]"
      ]
     },
     "execution_count": 14,
     "metadata": {},
     "output_type": "execute_result"
    }
   ],
   "source": [
    "german_credit"
   ]
  },
  {
   "cell_type": "markdown",
   "metadata": {
    "id": "7NxUYUbabGFn"
   },
   "source": [
    "Now that we have dealt with missing values, we must ensure that variables are discrete with low number of possible values.\n",
    "We will arbitrarily say that **above 10 values** is too many.\n",
    "\n",
    "When a variable has too many values, we must apply binning to it. Binning means grouping together values under new names, into a small number of categories. There are different strategy to binning.\n",
    " - A domain expert might create meaningful binning from prior knowledge. For instance, age is usually grouped in 18-25, 26-45, 46-65, 65+ categories.\n",
    " - When no prior knowledge is available, a common strategy on ordered data (where a \"lesser than\" notion makes sense) is to create bins of equal population with ordered values. For instance, age could be grouped in three groups from 18 to 30, 31 to 37, 37+ if each group correspond to roughly the same number of observations (rows).\n",
    "\n",
    "The following cell iterates over the columns of the dataset, and for each of them, prints the number of unique values contained in the column. It uses `pd.DataFrame.columns` (https://pandas.pydata.org/docs/reference/frame.html) and `pd.Series.unique` (https://pandas.pydata.org/docs/reference/series.html)."
   ]
  },
  {
   "cell_type": "code",
   "execution_count": 15,
   "metadata": {
    "id": "CV8OwgXdWMVS"
   },
   "outputs": [
    {
     "name": "stdout",
     "output_type": "stream",
     "text": [
      "Variable 'Credit History' has 5 possible values\n",
      "Variable 'Age' has 53 possible values\n",
      "Variable 'Gender' has 2 possible values\n",
      "Variable 'Job' has 4 possible values\n",
      "Variable 'Housing' has 3 possible values\n",
      "Variable 'Saving accounts' has 5 possible values\n",
      "Variable 'Credit amount' has 921 possible values\n",
      "Variable 'Duration' has 33 possible values\n",
      "Variable 'Purpose' has 8 possible values\n",
      "Variable 'Risk' has 2 possible values\n"
     ]
    }
   ],
   "source": [
    "# RUN THIS CELL\n",
    "for variable in german_credit.columns:\n",
    "    print(\"Variable '{}' has {} possible values\".format(variable, len(german_credit[variable].unique())))"
   ]
  },
  {
   "cell_type": "markdown",
   "metadata": {
    "id": "pjRkeijP1MaI"
   },
   "source": [
    "**Question** *Which columns seem to have too many unique values to handle like categorical variables?*\n",
    "\n",
    "**Credit amount**, **Age** and **Duration** variables have too many unique values. It can be reduced to much lower by creating categories.\n",
    "***"
   ]
  },
  {
   "cell_type": "markdown",
   "metadata": {
    "id": "4stpGKXvf_k-"
   },
   "source": [
    "**TODO 1.2**: Apply the function `pandas.qcut` (https://pandas.pydata.org/docs/reference/api/pandas.qcut.html), with quantiles `q=[0, .33, .66, 1]` to make three equally populated bins, for `Age`,`Credit amount`, and `Duration`.\n",
    "\n",
    "You should replace the previous column with the new value: syntax `dataframe[column] = pd.qcut(...)`."
   ]
  },
  {
   "cell_type": "code",
   "execution_count": 16,
   "metadata": {
    "id": "q38sVNw6f_Ae"
   },
   "outputs": [],
   "source": [
    "# TODO\n",
    "import pandas as pd\n",
    "\n",
    "# Apply pd.qcut to discretize 'Age', 'Credit amount', and 'Duration' into three bins\n",
    "german_credit['Age'] = pd.qcut(german_credit['Age'], q=[0, .33, .66, 1], labels=False)\n",
    "german_credit['Credit amount'] = pd.qcut(german_credit['Credit amount'], q=[0, .33, .66, 1], labels=False)\n",
    "german_credit['Duration'] = pd.qcut(german_credit['Duration'], q=[0, .33, .66, 1], labels=False)\n"
   ]
  },
  {
   "cell_type": "code",
   "execution_count": 17,
   "metadata": {},
   "outputs": [
    {
     "name": "stdout",
     "output_type": "stream",
     "text": [
      "Variable 'Credit History' has 5 possible values\n",
      "Variable 'Age' has 3 possible values\n",
      "Variable 'Gender' has 2 possible values\n",
      "Variable 'Job' has 4 possible values\n",
      "Variable 'Housing' has 3 possible values\n",
      "Variable 'Saving accounts' has 5 possible values\n",
      "Variable 'Credit amount' has 3 possible values\n",
      "Variable 'Duration' has 3 possible values\n",
      "Variable 'Purpose' has 8 possible values\n",
      "Variable 'Risk' has 2 possible values\n"
     ]
    }
   ],
   "source": [
    "# RUN THIS CELL\n",
    "for variable in german_credit.columns:\n",
    "    print(\"Variable '{}' has {} possible values\".format(variable, len(german_credit[variable].unique())))"
   ]
  },
  {
   "cell_type": "code",
   "execution_count": 18,
   "metadata": {
    "id": "ch7GXi5ohqRT"
   },
   "outputs": [
    {
     "name": "stdout",
     "output_type": "stream",
     "text": [
      "Variable 'Age' has the following list of possible values: [2 0 1]\n",
      "Variable 'Credit amount' has the following list of possible values: [0 2 1]\n",
      "Variable 'Duration' has the following list of possible values: [0 2 1]\n"
     ]
    }
   ],
   "source": [
    "# RUN THIS CELL\n",
    "# verify that Age, Credit amount and Duration have been correctly prepared\n",
    "for variable in [\"Age\", \"Credit amount\", \"Duration\"]:\n",
    "    assert len(german_credit[variable].unique())==3\n",
    "    print(\"Variable '{}' has the following list of possible values: {}\".format(variable, german_credit[variable].unique()))"
   ]
  },
  {
   "cell_type": "markdown",
   "metadata": {
    "id": "6tKfD87Ojqom"
   },
   "source": [
    "**TODO 1.3**: To separate our Train/Validation sets, use the method `DataFrame.sample` (https://pandas.pydata.org/docs/reference/api/pandas.DataFrame.sample.html) to sample without replacement a fraction 0.9 of the dataset german_credit, called `train_set`. Use the method `DataFrame.drop` (https://pandas.pydata.org/docs/reference/api/pandas.DataFrame.drop.html) with indexes `train_set.index` to create a validation set `val_set`. **IMPORTANT** for reproducibility, make sure to seed your sample selection with parameter `random_state`."
   ]
  },
  {
   "cell_type": "code",
   "execution_count": 19,
   "metadata": {
    "id": "Hy5qo49XlFxr"
   },
   "outputs": [],
   "source": [
    "# TODO\n",
    "# Sample 90% of the data for the training set\n",
    "train_set = german_credit.sample(frac=0.9, random_state=10, replace=False)\n",
    "\n",
    "# Create the validation set by dropping the training set rows\n",
    "val_set = german_credit.drop(train_set.index)\n",
    "\n"
   ]
  },
  {
   "cell_type": "code",
   "execution_count": 20,
   "metadata": {
    "id": "IYO2sdsKlelH"
   },
   "outputs": [],
   "source": [
    "# RUN THIS CELL\n",
    "\n",
    "assert len(train_set)==900\n",
    "assert len(val_set)==100"
   ]
  },
  {
   "cell_type": "markdown",
   "metadata": {
    "id": "48OR_OC0eJYB"
   },
   "source": [
    "We will put aside the validation set for the remainder of part 1 and part 2."
   ]
  },
  {
   "cell_type": "markdown",
   "metadata": {
    "id": "MmR49O1Miow2"
   },
   "source": [
    "### Model learning\n",
    "\n",
    "To learn a Bayesian Network structure fitting the data, `pgmpy` provides several algorithms. We will use Hill Climb Search (https://pgmpy.org/structure_estimator/hill.html).\n",
    "This algorithm:\n",
    " - is greedy: a scoring function is optimized by making gradual modification to a Directed Acyclic Graph, until no modification can improve the score (hence, hill-climbing).\n",
    " - is heuristic: the scoring function represents some sort of belief of what a best network structure would be. For instance, a best graph would both fit the data well while having a small *description length* (an encoding of this graph should be as small as possible) (BIC score, AIC score). Another best graph concept would rely on fitting the data well while maximizing a probability over a distribution of graphs (K2 score, DBE score...). See http://www.lx.it.pt/~asmc/pub/talks/09-TA/ta_pres.pdf for more details.\n",
    "\n",
    "**TODO 1.4**: Instanciate `pgmpy.estimators.HillClimbSearch` on the training set. Apply the method `HillClimbSearch.estimate` on the instance, with `k2score`, and otherwise default parameters. Finally, reuse `plot_bayesian_network` defined in part 0 to plot the learned network.\n"
   ]
  },
  {
   "cell_type": "code",
   "execution_count": 21,
   "metadata": {
    "id": "36KaeZI8lqb0"
   },
   "outputs": [
    {
     "data": {
      "application/vnd.jupyter.widget-view+json": {
       "model_id": "1fb60e95343d438d85f9d9d507326f45",
       "version_major": 2,
       "version_minor": 0
      },
      "text/plain": [
       "  0%|          | 0/1000000 [00:00<?, ?it/s]"
      ]
     },
     "metadata": {},
     "output_type": "display_data"
    }
   ],
   "source": [
    "# TODO\n",
    "from pgmpy.estimators import HillClimbSearch, K2Score\n",
    "\n",
    "# Instantiate HillClimbSearch with training set\n",
    "hc = HillClimbSearch(train_set)\n",
    "\n",
    "# Learn the structure using the K2 scoring function\n",
    "model = hc.estimate(scoring_method=K2Score(train_set))\n",
    "learned_network = pgmpy.models.BayesianNetwork(model.edges())"
   ]
  },
  {
   "cell_type": "code",
   "execution_count": 22,
   "metadata": {},
   "outputs": [],
   "source": [
    "# RUN THIS CELL\n",
    "\n",
    "def plot_bayesian_network(bn):\n",
    "\n",
    "    # Convert to a directed graph for visualization\n",
    "    G = nx.DiGraph(bn.edges())\n",
    "\n",
    "    # Draw the graph\n",
    "    nx.draw(G, with_labels=True, pos=nx.circular_layout(G))\n",
    "\n",
    "#plot_bayesian_network(monty_hall)"
   ]
  },
  {
   "cell_type": "code",
   "execution_count": 23,
   "metadata": {},
   "outputs": [
    {
     "data": {
      "image/png": "[encoded data removed]",
      "text/plain": [
       "<Figure size 640x480 with 1 Axes>"
      ]
     },
     "metadata": {},
     "output_type": "display_data"
    }
   ],
   "source": [
    "plot_bayesian_network(model)"
   ]
  },
  {
   "cell_type": "markdown",
   "metadata": {
    "id": "i2iCj62jnIui"
   },
   "source": [
    "**TODO 1.5**: The `estimate` method argument `tabu_length` controls how many of the last graph modifications are impossible to modify. Run another graph estimation while setting `tabu_length=1`. Is there any change to the graph?"
   ]
  },
  {
   "cell_type": "code",
   "execution_count": 24,
   "metadata": {
    "id": "9TIjKGu-lgXY"
   },
   "outputs": [
    {
     "data": {
      "application/vnd.jupyter.widget-view+json": {
       "model_id": "3766caaf5ec04b93a508a3f514f80dc0",
       "version_major": 2,
       "version_minor": 0
      },
      "text/plain": [
       "  0%|          | 0/1000000 [00:00<?, ?it/s]"
      ]
     },
     "metadata": {},
     "output_type": "display_data"
    },
    {
     "data": {
      "image/png": "[encoded data removed]",
      "text/plain": [
       "<Figure size 640x480 with 1 Axes>"
      ]
     },
     "metadata": {},
     "output_type": "display_data"
    }
   ],
   "source": [
    "# TODO\n",
    "model_tabu = hc.estimate(scoring_method=K2Score(train_set), tabu_length=1)\n",
    "learned_network_tabu = pgmpy.models.BayesianNetwork(model_tabu.edges())\n",
    "\n",
    "plot_bayesian_network(learned_network_tabu)\n"
   ]
  },
  {
   "cell_type": "markdown",
   "metadata": {},
   "source": [
    "The graph remains the same, we have the same dependencies. The lack of change in the graph with tabu_length=1 indicates that the Hill Climb Search likely found an optimal or near-optimal solution early, and adding a small tabu list did not affect the outcome. However, this could change for larger datasets or more complex networks where cycling between suboptimal structures is more common.\n",
    "\n",
    "***"
   ]
  },
  {
   "cell_type": "markdown",
   "metadata": {
    "id": "YRjuTexMn5EW"
   },
   "source": [
    "**TODO 1.6**: As mentionned before, different scoring functions encode different beliefs of what an optimal graph would look like. Apply the `estimate` method with `bicscore` scoring method. The BIC (Bayesian Information Criterion) penalizes graphs with a lot of edges, under the belief that the simplest structure is the most likely (Occam's razor https://en.wikipedia.org/wiki/Occam%27s_razor)."
   ]
  },
  {
   "cell_type": "code",
   "execution_count": 25,
   "metadata": {
    "id": "3AnnTnx5mSXE"
   },
   "outputs": [
    {
     "data": {
      "application/vnd.jupyter.widget-view+json": {
       "model_id": "b430469443e047e28506822b91f30b74",
       "version_major": 2,
       "version_minor": 0
      },
      "text/plain": [
       "  0%|          | 0/1000000 [00:00<?, ?it/s]"
      ]
     },
     "metadata": {},
     "output_type": "display_data"
    },
    {
     "data": {
      "image/png": "[encoded data removed]",
      "text/plain": [
       "<Figure size 640x480 with 1 Axes>"
      ]
     },
     "metadata": {},
     "output_type": "display_data"
    }
   ],
   "source": [
    "## TODO\n",
    "from pgmpy.estimators import BicScore\n",
    "\n",
    "# Step 2: Learn the structure using the K2 scoring function\n",
    "model_bic = hc.estimate(scoring_method=BicScore(train_set))\n",
    "learned_network_bic = pgmpy.models.BayesianNetwork(model_bic.edges())\n",
    "\n",
    "plot_bayesian_network(learned_network_bic)"
   ]
  },
  {
   "cell_type": "markdown",
   "metadata": {
    "id": "8DAMByuypiSE"
   },
   "source": [
    "***\n",
    "**Question** To your opinion, which graph is simpler to interpret?\n",
    "\n",
    "&rarr; The estimate method with bicscore scoring method is the simpler graph to interpret. We indeed have fewer edges which refers to less dependencies between nodes.\n",
    "\n",
    "**Question** To your opinion, which graph is faster to evaluate?\n",
    "\n",
    "&rarr; More nodes and edges generally lead to more computational resources during evaluation and inference. This means, the estimate method with bicscore scoring method is also the faster graph to interpret.\n",
    "\n",
    "**Conclusion:** <br>\n",
    "In general, a simpler graph (with fewer edges) is typically both easier to interpret and faster to evaluate.\n",
    "\n",
    "***"
   ]
  },
  {
   "cell_type": "markdown",
   "metadata": {
    "id": "7CwfWNTTeYeE"
   },
   "source": [
    "We will now use the graph produced by the `bicscore` method. We now need to learn a set of factor functions to model the joint probability distribution.\n",
    "Precisely, for each node $V$ with parents (in-going edges) $Pa(V)$, we learn $\\mathbb{P}(V|Pa(V))$.\n",
    "\n",
    "The library pgmpy provides several parameter estimation algorithms, each with different particularities. The one we will use is the following:\n",
    " - Maximum Likelihood Estimation (https://pgmpy.org/param_estimator/mle.html): estimates joint probabilities by using the frequency/count of each configuration of values. It needs all variables to be observed in the data.\n",
    "\n",
    "There are other methods, that do not apply to our case:\n",
    " - Expectation Maximization (https://pgmpy.org/param_estimator/em.html): Used in the presence of *latent* variables, i.e. variables in the graph for which there is no data. Expectation Maximization does not maximize the likelihood of the joint distribution, but the expectation of this likelihood.\n",
    " - Bayesian Estimation (https://pgmpy.org/param_estimator/bayesian_est.html): Used when domain knowledge, or belief, is known beside what is recorded in the data. This knowledge is specified to the algorithm in the form of *priors*. Due to the additional information, parameter estimates typically require less observations than Maximum Likelihood Estimation.\n",
    "\n",
    "\n"
   ]
  },
  {
   "cell_type": "markdown",
   "metadata": {
    "id": "A8L2oG5rpOMX"
   },
   "source": [
    "**TODO 1.7**: Apply MLE (https://pgmpy.org/param_estimator/mle.html) with its `.get_parameters()` method to estimate the parameters of the Bayesian Network. Add the parameters to a model object (class `pgmpy.models.BayesianNetwork`) built from the graph structure obtained with bicscore. You will name this model `model`. Use the training data only."
   ]
  },
  {
   "cell_type": "code",
   "execution_count": 26,
   "metadata": {
    "id": "4U7Enc2fpw0S"
   },
   "outputs": [
    {
     "name": "stdout",
     "output_type": "stream",
     "text": [
      "[<TabularCPD representing P(Age:3 | Job:4) at 0x1eff0f8d050>, <TabularCPD representing P(Housing:3 | Age:3) at 0x1eff0f3f050>, <TabularCPD representing P(Job:4 | Credit amount:3) at 0x1eff127e290>, <TabularCPD representing P(Gender:2 | Housing:3) at 0x1eff0fb0650>, <TabularCPD representing P(Saving accounts:5) at 0x1eff0ee5810>, <TabularCPD representing P(Risk:2 | Saving accounts:5) at 0x1eff1289ed0>, <TabularCPD representing P(Credit amount:3 | Duration:3) at 0x1eff128aad0>, <TabularCPD representing P(Duration:3 | Risk:2) at 0x1eff12893d0>, <TabularCPD representing P(Credit History:5 | Risk:2) at 0x1eff0fa70d0>]\n"
     ]
    }
   ],
   "source": [
    "# TODO\n",
    "from pgmpy.estimators import MaximumLikelihoodEstimator\n",
    "\n",
    "estimator = MaximumLikelihoodEstimator(learned_network_bic, train_set)\n",
    "parameters = estimator.get_parameters()\n",
    "print(parameters)\n",
    "\n",
    "# Add the parameters to the learned network model\n",
    "for cpd in parameters:\n",
    "    learned_network_bic.add_cpds(cpd)"
   ]
  },
  {
   "cell_type": "code",
   "execution_count": 27,
   "metadata": {
    "id": "EVaM2HWEvFfY"
   },
   "outputs": [
    {
     "name": "stdout",
     "output_type": "stream",
     "text": [
      "+--------+--------+-----+---------------------+\n",
      "| Job    | Job(0) | ... | Job(3)              |\n",
      "+--------+--------+-----+---------------------+\n",
      "| Age(0) | 0.35   | ... | 0.14492753623188406 |\n",
      "+--------+--------+-----+---------------------+\n",
      "| Age(1) | 0.2    | ... | 0.47101449275362317 |\n",
      "+--------+--------+-----+---------------------+\n",
      "| Age(2) | 0.45   | ... | 0.38405797101449274 |\n",
      "+--------+--------+-----+---------------------+\n",
      "+---------------+-----+---------------------+\n",
      "| Age           | ... | Age(2)              |\n",
      "+---------------+-----+---------------------+\n",
      "| Housing(free) | ... | 0.19494584837545126 |\n",
      "+---------------+-----+---------------------+\n",
      "| Housing(own)  | ... | 0.6931407942238267  |\n",
      "+---------------+-----+---------------------+\n",
      "| Housing(rent) | ... | 0.11191335740072202 |\n",
      "+---------------+-----+---------------------+\n",
      "+---------------+-----+----------------------+\n",
      "| Credit amount | ... | Credit amount(2)     |\n",
      "+---------------+-----+----------------------+\n",
      "| Job(0)        | ... | 0.019672131147540985 |\n",
      "+---------------+-----+----------------------+\n",
      "| Job(1)        | ... | 0.12459016393442623  |\n",
      "+---------------+-----+----------------------+\n",
      "| Job(2)        | ... | 0.5868852459016394   |\n",
      "+---------------+-----+----------------------+\n",
      "| Job(3)        | ... | 0.26885245901639343  |\n",
      "+---------------+-----+----------------------+\n",
      "+----------------+-----+---------------------+\n",
      "| Housing        | ... | Housing(rent)       |\n",
      "+----------------+-----+---------------------+\n",
      "| Gender(female) | ... | 0.5506329113924051  |\n",
      "+----------------+-----+---------------------+\n",
      "| Gender(male)   | ... | 0.44936708860759494 |\n",
      "+----------------+-----+---------------------+\n",
      "+-----------------------------+-----------+\n",
      "| Saving accounts(little)     | 0.607778  |\n",
      "+-----------------------------+-----------+\n",
      "| Saving accounts(moderate)   | 0.103333  |\n",
      "+-----------------------------+-----------+\n",
      "| Saving accounts(no account) | 0.178889  |\n",
      "+-----------------------------+-----------+\n",
      "| Saving accounts(quite rich) | 0.0622222 |\n",
      "+-----------------------------+-----------+\n",
      "| Saving accounts(rich)       | 0.0477778 |\n",
      "+-----------------------------+-----------+\n",
      "+-----------------+-----+-----------------------+\n",
      "| Saving accounts | ... | Saving accounts(rich) |\n",
      "+-----------------+-----+-----------------------+\n",
      "| Risk(bad)       | ... | 0.13953488372093023   |\n",
      "+-----------------+-----+-----------------------+\n",
      "| Risk(good)      | ... | 0.8604651162790697    |\n",
      "+-----------------+-----+-----------------------+\n",
      "+------------------+-----+----------------------+\n",
      "| Duration         | ... | Duration(2)          |\n",
      "+------------------+-----+----------------------+\n",
      "| Credit amount(0) | ... | 0.004878048780487805 |\n",
      "+------------------+-----+----------------------+\n",
      "| Credit amount(1) | ... | 0.1951219512195122   |\n",
      "+------------------+-----+----------------------+\n",
      "| Credit amount(2) | ... | 0.8                  |\n",
      "+------------------+-----+----------------------+\n",
      "+-------------+---------------------+---------------------+\n",
      "| Risk        | Risk(bad)           | Risk(good)          |\n",
      "+-------------+---------------------+---------------------+\n",
      "| Duration(0) | 0.2574626865671642  | 0.40822784810126583 |\n",
      "+-------------+---------------------+---------------------+\n",
      "| Duration(1) | 0.39925373134328357 | 0.4129746835443038  |\n",
      "+-------------+---------------------+---------------------+\n",
      "| Duration(2) | 0.34328358208955223 | 0.1787974683544304  |\n",
      "+-------------+---------------------+---------------------+\n",
      "+-------------------+---------------------+----------------------+\n",
      "| Risk              | Risk(bad)           | Risk(good)           |\n",
      "+-------------------+---------------------+----------------------+\n",
      "| Credit History(0) | 0.08955223880597014 | 0.020569620253164556 |\n",
      "+-------------------+---------------------+----------------------+\n",
      "| Credit History(1) | 0.09701492537313433 | 0.03322784810126582  |\n",
      "+-------------------+---------------------+----------------------+\n",
      "| Credit History(2) | 0.5634328358208955  | 0.5158227848101266   |\n",
      "+-------------------+---------------------+----------------------+\n",
      "| Credit History(3) | 0.08582089552238806 | 0.08702531645569621  |\n",
      "+-------------------+---------------------+----------------------+\n",
      "| Credit History(4) | 0.16417910447761194 | 0.34335443037974683  |\n",
      "+-------------------+---------------------+----------------------+\n"
     ]
    }
   ],
   "source": [
    "# RUN THIS CELL\n",
    "assert learned_network_bic.check_model()\n",
    "\n",
    "# Print the learned CPDs\n",
    "for cpd in learned_network_bic.get_cpds():\n",
    "    print(cpd)"
   ]
  },
  {
   "cell_type": "markdown",
   "metadata": {
    "id": "RI7k7m9GAl1E"
   },
   "source": [
    "## Part 2: Bayesian Inference\n",
    "\n",
    "In this part, we will use the previous model to analyse the mechanisms behind Credit Risk attribution by banks.\n",
    "\n",
    "We will first examine relations between `Gender` and `Risk`.\n",
    "\n",
    "**TODO 2.1**: Use Variable Elimination to print the joint distribution $\\mathbb{P}$(`Gender`,`Risk`). Use Variable Elimination to print the conditional distribution $\\mathbb{P}$(`Risk`|`Gender`) for both Gender values."
   ]
  },
  {
   "cell_type": "code",
   "execution_count": 28,
   "metadata": {
    "id": "C01wt96j9VRo"
   },
   "outputs": [
    {
     "name": "stdout",
     "output_type": "stream",
     "text": [
      "Joint Distribution P(Gender, Risk): +----------------+------------+--------------------+\n",
      "| Gender         | Risk       |   phi(Gender,Risk) |\n",
      "+================+============+====================+\n",
      "| Gender(female) | Risk(bad)  |             0.0946 |\n",
      "+----------------+------------+--------------------+\n",
      "| Gender(female) | Risk(good) |             0.2232 |\n",
      "+----------------+------------+--------------------+\n",
      "| Gender(male)   | Risk(bad)  |             0.2032 |\n",
      "+----------------+------------+--------------------+\n",
      "| Gender(male)   | Risk(good) |             0.4790 |\n",
      "+----------------+------------+--------------------+\n",
      "+------------+-------------+\n",
      "| Risk       |   phi(Risk) |\n",
      "+============+=============+\n",
      "| Risk(bad)  |      0.2976 |\n",
      "+------------+-------------+\n",
      "| Risk(good) |      0.7024 |\n",
      "+------------+-------------+\n",
      "+------------+-------------+\n",
      "| Risk       |   phi(Risk) |\n",
      "+============+=============+\n",
      "| Risk(bad)  |      0.2979 |\n",
      "+------------+-------------+\n",
      "| Risk(good) |      0.7021 |\n",
      "+------------+-------------+\n"
     ]
    }
   ],
   "source": [
    "# TODO\n",
    "from pgmpy.inference import VariableElimination\n",
    "\n",
    "# Instantiate\n",
    "inference = VariableElimination(learned_network_bic)\n",
    "\n",
    "# Joint distribution P(Gender, Risk)\n",
    "joint_distribution = inference.query(variables=['Gender', 'Risk'])\n",
    "print(f\"Joint Distribution P(Gender, Risk): {joint_distribution}\")\n",
    "\n",
    "# Conditional distribution P(Risk | Gender)\n",
    "risk_given_male = inference.query(variables=['Risk'], evidence={'Gender': 'male'})\n",
    "risk_given_female = inference.query(variables=['Risk'], evidence={'Gender': 'female'})\n",
    "\n",
    "print(risk_given_female)\n",
    "print(risk_given_male)"
   ]
  },
  {
   "cell_type": "markdown",
   "metadata": {
    "id": "4QLBy-3pAn10"
   },
   "source": [
    "**Question**: Are gender differences associated to lowered risk? What is hidden in the conditional distribution, that is apparent in the joint distribution? What prior would be needed to deduce the joint distribution $\\mathbb{P}$(`Gender`,`Risk`) from the conditional distributions $\\mathbb{P}$(`Risk`|`Gender`)?\n",
    "\n",
    "&rarr; Gender differences are indeed associated to lowered risk.\n",
    "From the joint distribution, we can see that women have a lower probability than men of having a **bad risk**. (0.09 < 0.20) <br>\n",
    "Thus, men are more likely to have a bad risk and women are more likely to have a good risk.\n",
    "\n",
    "&rarr; The conditional distribution $\\mathbb{P}$(`Risk`| `Gender`) tells us the probability of risk given gender, but it hides the **actual proportions of males and females** in the population.\n",
    "\n",
    "&rarr; The joint distribution can be found by calculating: $\\mathbb{P}$(`Gender`,`Risk`) = $\\mathbb{P}$(`Risk`| `Gender`) * $\\mathbb{P}$(`Gender`).\n",
    "\n",
    "***"
   ]
  },
  {
   "cell_type": "markdown",
   "metadata": {
    "id": "6pc10qqZ_k3v"
   },
   "source": [
    "**TODO 2.2**: Examine how some of the other variables are associated to varying Risk (using conditional distributions). Write down your conclusions."
   ]
  },
  {
   "cell_type": "code",
   "execution_count": 29,
   "metadata": {
    "id": "HsSZjEtaCAZ1"
   },
   "outputs": [
    {
     "name": "stdout",
     "output_type": "stream",
     "text": [
      "P(Risk | Credit History = 0):\n",
      "+------------+-------------+\n",
      "| Risk       |   phi(Risk) |\n",
      "+============+=============+\n",
      "| Risk(bad)  |      0.6486 |\n",
      "+------------+-------------+\n",
      "| Risk(good) |      0.3514 |\n",
      "+------------+-------------+\n",
      "P(Risk | Credit History = 1):\n",
      "+------------+-------------+\n",
      "| Risk       |   phi(Risk) |\n",
      "+============+=============+\n",
      "| Risk(bad)  |      0.5532 |\n",
      "+------------+-------------+\n",
      "| Risk(good) |      0.4468 |\n",
      "+------------+-------------+\n",
      "P(Risk | Credit History = 2):\n",
      "+------------+-------------+\n",
      "| Risk       |   phi(Risk) |\n",
      "+============+=============+\n",
      "| Risk(bad)  |      0.3166 |\n",
      "+------------+-------------+\n",
      "| Risk(good) |      0.6834 |\n",
      "+------------+-------------+\n"
     ]
    }
   ],
   "source": [
    "# TODO\n",
    "\n",
    "# Conditional distribution P(Risk | Credit History = 0)\n",
    "risk_given_credit_0 = inference.query(variables=['Risk'], evidence={'Credit History': 0})\n",
    "\n",
    "# Conditional distribution P(Risk | Credit History = 1)\n",
    "risk_given_credit_1 = inference.query(variables=['Risk'], evidence={'Credit History': 1})\n",
    "\n",
    "# Conditional distribution P(Risk | Credit History = 2)\n",
    "risk_given_credit_2 = inference.query(variables=['Risk'], evidence={'Credit History': 2})\n",
    "\n",
    "# Print the results\n",
    "print(\"P(Risk | Credit History = 0):\")\n",
    "print(risk_given_credit_0)\n",
    "\n",
    "print(\"P(Risk | Credit History = 1):\")\n",
    "print(risk_given_credit_1)\n",
    "\n",
    "print(\"P(Risk | Credit History = 2):\")\n",
    "print(risk_given_credit_2)\n"
   ]
  },
  {
   "cell_type": "markdown",
   "metadata": {},
   "source": [
    "It tells that it has **higher bad risk** from people who has never had credits before than people who already have applied for a credit. The more people applied for credits, the fewer bad risks we have. "
   ]
  },
  {
   "cell_type": "code",
   "execution_count": 30,
   "metadata": {},
   "outputs": [
    {
     "name": "stdout",
     "output_type": "stream",
     "text": [
      "P(Risk | Saving accounts = no account):\n",
      "+------------+-------------+\n",
      "| Risk       |   phi(Risk) |\n",
      "+============+=============+\n",
      "| Risk(bad)  |      0.1677 |\n",
      "+------------+-------------+\n",
      "| Risk(good) |      0.8323 |\n",
      "+------------+-------------+\n",
      "P(Risk | Saving accounts = little):\n",
      "+------------+-------------+\n",
      "| Risk       |   phi(Risk) |\n",
      "+============+=============+\n",
      "| Risk(bad)  |      0.3583 |\n",
      "+------------+-------------+\n",
      "| Risk(good) |      0.6417 |\n",
      "+------------+-------------+\n",
      "P(Risk | Saving accounts = moderate):\n",
      "+------------+-------------+\n",
      "| Risk       |   phi(Risk) |\n",
      "+============+=============+\n",
      "| Risk(bad)  |      0.3583 |\n",
      "+------------+-------------+\n",
      "| Risk(good) |      0.6417 |\n",
      "+------------+-------------+\n"
     ]
    }
   ],
   "source": [
    "# Conditional distribution P(Risk | Job)\n",
    "risk_given_no_account = inference.query(variables=['Risk'], evidence={'Saving accounts': 'no account'})\n",
    "risk_given_little = inference.query(variables=['Risk'], evidence={'Saving accounts': 'little'})\n",
    "risk_given_moderate = inference.query(variables=['Risk'], evidence={'Saving accounts': 'little'})\n",
    "\n",
    "print(\"P(Risk | Saving accounts = no account):\")\n",
    "print(risk_given_no_account)\n",
    "print(\"P(Risk | Saving accounts = little):\")\n",
    "print(risk_given_little)\n",
    "print(\"P(Risk | Saving accounts = moderate):\")\n",
    "print(risk_given_moderate)"
   ]
  },
  {
   "cell_type": "markdown",
   "metadata": {},
   "source": [
    "It returns that we may have higher bad risks with people who have a saving account than those who never had. In the end, people who never applied for a credit seem more serious concerning their credit repayment.\n",
    "***"
   ]
  },
  {
   "cell_type": "markdown",
   "metadata": {
    "id": "LJ9rhBib-qsG"
   },
   "source": [
    "**BONUS Question** Job categories go from \"0 - unskilled\" to \"3 - highly skilled\". Does the risk evolution in function of the Job attribute correspond to your expectations? If not, what could be the reason for the difference?"
   ]
  },
  {
   "cell_type": "markdown",
   "metadata": {
    "id": "HBDlkyxy9eWF"
   },
   "source": [
    "The Bayesian Network associated to german credit has 9 variables. The previous joint and conditional distribution only involve 2 of them. Therefore, the algorithm has eliminated 7 variables.\n",
    "\n",
    "The computation time of the inference might change depending on the order in which variables are eliminated. The elimination order is controlled by the parameter `elimination_order` of the `.query` method.\n",
    "\n",
    "**TODO 2.3** For an identical query of joint probability $\\mathbb{P}(Risk, .)$ between the Risk and an arbitrary variable, measure the time spent when given different elimination orders (`greedy`, `MinFill`, `MinNeighbors`, `MinWeight`). You may use `time.time()` to obtain the current time."
   ]
  },
  {
   "cell_type": "code",
   "execution_count": 31,
   "metadata": {
    "id": "4jf4HBri9-1O"
   },
   "outputs": [
    {
     "data": {
      "application/vnd.jupyter.widget-view+json": {
       "model_id": "c40e2de24d274474ac8537dd03e69b1c",
       "version_major": 2,
       "version_minor": 0
      },
      "text/plain": [
       "  0%|          | 0/2 [00:00<?, ?it/s]"
      ]
     },
     "metadata": {},
     "output_type": "display_data"
    },
    {
     "data": {
      "application/vnd.jupyter.widget-view+json": {
       "model_id": "f99295e072c64b019ae4efd58e9d9f0d",
       "version_major": 2,
       "version_minor": 0
      },
      "text/plain": [
       "  0%|          | 0/2 [00:00<?, ?it/s]"
      ]
     },
     "metadata": {},
     "output_type": "display_data"
    },
    {
     "data": {
      "application/vnd.jupyter.widget-view+json": {
       "model_id": "4d1d5ab9c3c64c269322393c6b137289",
       "version_major": 2,
       "version_minor": 0
      },
      "text/plain": [
       "  0%|          | 0/2 [00:00<?, ?it/s]"
      ]
     },
     "metadata": {},
     "output_type": "display_data"
    },
    {
     "data": {
      "application/vnd.jupyter.widget-view+json": {
       "model_id": "0503234642a4459192015eccbc88ddb2",
       "version_major": 2,
       "version_minor": 0
      },
      "text/plain": [
       "  0%|          | 0/2 [00:00<?, ?it/s]"
      ]
     },
     "metadata": {},
     "output_type": "display_data"
    },
    {
     "data": {
      "application/vnd.jupyter.widget-view+json": {
       "model_id": "cf4e2e9f47384d4897ae124baa8dc9f8",
       "version_major": 2,
       "version_minor": 0
      },
      "text/plain": [
       "  0%|          | 0/2 [00:00<?, ?it/s]"
      ]
     },
     "metadata": {},
     "output_type": "display_data"
    },
    {
     "data": {
      "application/vnd.jupyter.widget-view+json": {
       "model_id": "013ead02c6d74c3abd287ecade0509fd",
       "version_major": 2,
       "version_minor": 0
      },
      "text/plain": [
       "  0%|          | 0/2 [00:00<?, ?it/s]"
      ]
     },
     "metadata": {},
     "output_type": "display_data"
    },
    {
     "name": "stdout",
     "output_type": "stream",
     "text": [
      "Time taken for elimination order 'greedy': 0.001004 seconds\n",
      "Time taken for elimination order 'MinFill': 0.015575 seconds\n",
      "Time taken for elimination order 'MinNeighbors': 0.012265 seconds\n",
      "Time taken for elimination order 'MinWeight': 0.012517 seconds\n"
     ]
    }
   ],
   "source": [
    "# TODO\n",
    "import time\n",
    "\n",
    "arbitrary_variable = 'Credit amount'\n",
    "\n",
    "# Measure time\n",
    "elimination_orders = ['greedy', 'MinFill', 'MinNeighbors', 'MinWeight']\n",
    "results = {}\n",
    "\n",
    "for order in elimination_orders:\n",
    "    start_time = time.time()\n",
    "    \n",
    "    joint_distribution = inference.query(variables=['Risk', arbitrary_variable], elimination_order=order)\n",
    "    \n",
    "    end_time = time.time()\n",
    "    \n",
    "    # Store the time\n",
    "    results[order] = end_time - start_time\n",
    "\n",
    "for order, duration in results.items():\n",
    "    print(f\"Time taken for elimination order '{order}': {duration:.6f} seconds\")\n"
   ]
  },
  {
   "cell_type": "markdown",
   "metadata": {
    "id": "L3kzaqiH1AEr"
   },
   "source": [
    "The Bayesian Network can help us with *Feature Selection*. The goal of feature selection is to select a subset of variables that contain all the necessary information about `Risk`, i.e., the *Markov Blanket*.\n",
    "\n",
    "For instance, variable `Job` might have information on `Risk` (i.e., not independent), but this information might already be contained in another variable, making `Job` redundant.\n",
    "\n",
    "**TODO 2.4** To know which variables can be made independent from `Risk` by conditioning on other variables, it is possible to use the graph structure. Find a Markov Blanket of `Risk`. The method `BayesianNetwork.get_markov_blanket` (https://pgmpy.org/base/base.html) is ready made for this task."
   ]
  },
  {
   "cell_type": "code",
   "execution_count": 32,
   "metadata": {
    "id": "5DB8pe0YHxc_"
   },
   "outputs": [
    {
     "name": "stdout",
     "output_type": "stream",
     "text": [
      "Markov Blanket of 'Risk':\n",
      "['Duration', 'Saving accounts', 'Credit History']\n"
     ]
    }
   ],
   "source": [
    "## TODO\n",
    "\n",
    "# Markov Blanket of the variable 'Risk'\n",
    "risk_markov_blanket = learned_network_bic.get_markov_blanket('Risk')\n",
    "\n",
    "# Print the Markov Blanket\n",
    "print(\"Markov Blanket of 'Risk':\")\n",
    "print(risk_markov_blanket)"
   ]
  },
  {
   "cell_type": "markdown",
   "metadata": {
    "id": "wn9IyAkzQbm0"
   },
   "source": [
    "**Question** Interpret the markov blanket information: what is a markov blanket and what does it mean regarding how banks attribute credit risk rating?\n",
    "\n",
    "&rarr; A Markov Blanket represents the set of variables that renders a particular variable conditionally independent from all other variables in the network. the Markov Blanket gives information on the parents (direct causes), children (direct effects) and the other parents of its children (variables that influence its children). <br>\n",
    "Here, the Markov Blanket of Risk includes the variables **Duration**, **Saving acocunts** and **Credit History**. These three variables contain all the necessary information to predict or influence the Risk rating in the Bayesian network. Once we know the values of Duration, Saving accounts, and Credit History, the variable Risk becomes conditionally independent of all other variables in the model."
   ]
  },
  {
   "cell_type": "markdown",
   "metadata": {
    "id": "C4BcUiY29LEj"
   },
   "source": [
    "#### BONUS: causal inference\n",
    "\n",
    "**This bonus part covers an application of Bayesian Network not covered during the CM. You may go to part 3 directly then come back to it later.**"
   ]
  },
  {
   "cell_type": "markdown",
   "metadata": {
    "id": "tjwFqFRUBt-2"
   },
   "source": [
    "We will now consider the variable `Job`, for which we observe that Risk is different depending on the category. We can say clearly that Job and Risk aren't **independent**. What we cannot say while looking uniquely at the conditional probability distribution, is whether `Job` influences (is a cause of) `Risk`. Indeed, variables can be associated but not causated.\n",
    "\n",
    "It is generally difficult to determine causal relationships from observed data. Assuming that causal effects are *linear* (meaning that if `Job` has an influence on `Risk`, then this influence can be correctly modeled by a linear regression model), the causal inference framework (https://pgmpy.org/exact_infer/causal.html) allows to estimate whether two associated variables have a causal influence on each other (Average Treatement Effect https://en.wikipedia.org/wiki/Average_treatment_effect). The question it solves is the following: \"if a credit seeker's job category were to increase due to a job change, how much would Risk increase?\"\n",
    "\n",
    "Precisely, the ATE is the difference between the expected Risk when the job stays the same, compared to the expected Risk when the job category increases.\n",
    "\n",
    "**TODO 2.6**: Apply `pgmpy.inference.CausalInference` with its method `.estimate_ate` on training data, to infer if `Job` has an influence on `Risk`."
   ]
  },
  {
   "cell_type": "markdown",
   "metadata": {
    "id": "8NnT3rQ-RAUU"
   },
   "source": [
    "**Question**: Is Job category causaly linked to Risk?"
   ]
  },
  {
   "cell_type": "markdown",
   "metadata": {
    "id": "zVllX7cbfCeg"
   },
   "source": [
    "We now consider the variable `Duration`. We can confirm that it is associated to `Risk`, with higher credit amount related to greater proportion of 'bad' risk. Again, we would like to know if this is a cause-effect relation.\n",
    "\n",
    "We will now use another way of quantifying causal relationships: *do-calculus* with *counterfactuals*. The question it solves is: \"if all credit seekers were to be attributed the same duration by the bank, how would risk be distributed?\" If Duration and Risk are not causaly linked, then the resulting distribution of Risk will be identical for all durations.\n",
    "\n",
    "**TODO 2.7**: Use `CausalInference.query` to estimate the Risk after a do operation on Duration for each category of duration (specify `do={\"Duration\":value}` for appropriate values).\n"
   ]
  },
  {
   "cell_type": "code",
   "execution_count": 33,
   "metadata": {
    "id": "UYopFbB4ePa3"
   },
   "outputs": [],
   "source": [
    "#TODO\n"
   ]
  },
  {
   "cell_type": "markdown",
   "metadata": {
    "id": "8UoszafdvCij"
   },
   "source": [
    "**Question**: Is Duration causaly linked to Risk?"
   ]
  },
  {
   "cell_type": "markdown",
   "metadata": {
    "id": "oweGhK58voic"
   },
   "source": [
    "## Part 3: Bayesian models as predictive models\n",
    "\n",
    "Now that we have learned a model of the training data, we can apply it to validation data to evaluate how it works as a predictive model. We can use Maximum A Posteriori inference, to find out what Risk is most likely considering the values of the other variables. Formally, for a given validation sample $s$ where Risk is removed, we want to estimate $\\arg \\max \\mathbb{P}(Risk | Gender,...,Housing=s)$.\n",
    "\n",
    "**TODO 3.1**: Use `VariableElimination.map_query` (https://pgmpy.org/exact_infer/ve.html) to predict and store credit risk for each sample in the validation set. You can iterate over samples by using `val_set.to_dict()`, each row being converted to a dictionary. Make sure to not include `Risk` in the evidences.\n",
    "\n",
    "You will need to store the true risk in a list `y_true` for each sample, and store the corresponding predicted value into a list `y_pred`."
   ]
  },
  {
   "cell_type": "code",
   "execution_count": 34,
   "metadata": {},
   "outputs": [
    {
     "name": "stdout",
     "output_type": "stream",
     "text": [
      "Variables in the BN: ['Credit History', 'Age', 'Gender', 'Job', 'Housing', 'Saving accounts', 'Credit amount', 'Duration', 'Purpose', 'Risk']\n"
     ]
    },
    {
     "data": {
      "image/png": "[encoded data removed]",
      "text/plain": [
       "<Figure size 640x480 with 1 Axes>"
      ]
     },
     "metadata": {},
     "output_type": "display_data"
    }
   ],
   "source": [
    "print(\"Variables in the BN:\", model.nodes())\n",
    "plot_bayesian_network(learned_network_bic)"
   ]
  },
  {
   "cell_type": "markdown",
   "metadata": {
    "id": "gvJFj1UlP094"
   },
   "source": [
    "Run the next cell to visualize the classification performance."
   ]
  },
  {
   "cell_type": "code",
   "execution_count": 35,
   "metadata": {
    "id": "jGf9Cfn1bbJ1"
   },
   "outputs": [
    {
     "data": {
      "application/vnd.jupyter.widget-view+json": {
       "model_id": "5511af8c2a9340d9b6a5555bef9e2df4",
       "version_major": 2,
       "version_minor": 0
      },
      "text/plain": [
       "0it [00:00, ?it/s]"
      ]
     },
     "metadata": {},
     "output_type": "display_data"
    },
    {
     "data": {
      "application/vnd.jupyter.widget-view+json": {
       "model_id": "d060891cef554170864f963fb38bebb5",
       "version_major": 2,
       "version_minor": 0
      },
      "text/plain": [
       "0it [00:00, ?it/s]"
      ]
     },
     "metadata": {},
     "output_type": "display_data"
    },
    {
     "data": {
      "application/vnd.jupyter.widget-view+json": {
       "model_id": "3b86bca1fe1747c8bac603e834427547",
       "version_major": 2,
       "version_minor": 0
      },
      "text/plain": [
       "0it [00:00, ?it/s]"
      ]
     },
     "metadata": {},
     "output_type": "display_data"
    },
    {
     "data": {
      "application/vnd.jupyter.widget-view+json": {
       "model_id": "1f393e1ee25d478395888aa8290bdad4",
       "version_major": 2,
       "version_minor": 0
      },
      "text/plain": [
       "0it [00:00, ?it/s]"
      ]
     },
     "metadata": {},
     "output_type": "display_data"
    },
    {
     "data": {
      "application/vnd.jupyter.widget-view+json": {
       "model_id": "9a9447a4e1214b5db8a6b35d88ebe9a8",
       "version_major": 2,
       "version_minor": 0
      },
      "text/plain": [
       "0it [00:00, ?it/s]"
      ]
     },
     "metadata": {},
     "output_type": "display_data"
    },
    {
     "data": {
      "application/vnd.jupyter.widget-view+json": {
       "model_id": "409b9f26073a40189804f43c64067d97",
       "version_major": 2,
       "version_minor": 0
      },
      "text/plain": [
       "0it [00:00, ?it/s]"
      ]
     },
     "metadata": {},
     "output_type": "display_data"
    },
    {
     "data": {
      "application/vnd.jupyter.widget-view+json": {
       "model_id": "fbe034fd367a4d1e844546c2b7f58987",
       "version_major": 2,
       "version_minor": 0
      },
      "text/plain": [
       "0it [00:00, ?it/s]"
      ]
     },
     "metadata": {},
     "output_type": "display_data"
    },
    {
     "data": {
      "application/vnd.jupyter.widget-view+json": {
       "model_id": "756105e053aa40c8b4a0e136fad58603",
       "version_major": 2,
       "version_minor": 0
      },
      "text/plain": [
       "0it [00:00, ?it/s]"
      ]
     },
     "metadata": {},
     "output_type": "display_data"
    },
    {
     "data": {
      "application/vnd.jupyter.widget-view+json": {
       "model_id": "cac10077056a4138a37d01a640aa2609",
       "version_major": 2,
       "version_minor": 0
      },
      "text/plain": [
       "0it [00:00, ?it/s]"
      ]
     },
     "metadata": {},
     "output_type": "display_data"
    },
    {
     "data": {
      "application/vnd.jupyter.widget-view+json": {
       "model_id": "8554280987374acfa87491a9d5138137",
       "version_major": 2,
       "version_minor": 0
      },
      "text/plain": [
       "0it [00:00, ?it/s]"
      ]
     },
     "metadata": {},
     "output_type": "display_data"
    },
    {
     "data": {
      "application/vnd.jupyter.widget-view+json": {
       "model_id": "52f0dbf985c44438be87a3d4c1f64160",
       "version_major": 2,
       "version_minor": 0
      },
      "text/plain": [
       "0it [00:00, ?it/s]"
      ]
     },
     "metadata": {},
     "output_type": "display_data"
    },
    {
     "data": {
      "application/vnd.jupyter.widget-view+json": {
       "model_id": "1bdebea1173f408b9f370a6b2b021260",
       "version_major": 2,
       "version_minor": 0
      },
      "text/plain": [
       "0it [00:00, ?it/s]"
      ]
     },
     "metadata": {},
     "output_type": "display_data"
    },
    {
     "data": {
      "application/vnd.jupyter.widget-view+json": {
       "model_id": "aefd76ad45614c1db1d5b3b466e073a8",
       "version_major": 2,
       "version_minor": 0
      },
      "text/plain": [
       "0it [00:00, ?it/s]"
      ]
     },
     "metadata": {},
     "output_type": "display_data"
    },
    {
     "data": {
      "application/vnd.jupyter.widget-view+json": {
       "model_id": "7e1c6cfe93754d1983bf09e354e65e93",
       "version_major": 2,
       "version_minor": 0
      },
      "text/plain": [
       "0it [00:00, ?it/s]"
      ]
     },
     "metadata": {},
     "output_type": "display_data"
    },
    {
     "data": {
      "application/vnd.jupyter.widget-view+json": {
       "model_id": "988c372b42ce474199101d5bc6083453",
       "version_major": 2,
       "version_minor": 0
      },
      "text/plain": [
       "0it [00:00, ?it/s]"
      ]
     },
     "metadata": {},
     "output_type": "display_data"
    },
    {
     "data": {
      "application/vnd.jupyter.widget-view+json": {
       "model_id": "d4da27dd281d4c1ca50945540d3dfe8c",
       "version_major": 2,
       "version_minor": 0
      },
      "text/plain": [
       "0it [00:00, ?it/s]"
      ]
     },
     "metadata": {},
     "output_type": "display_data"
    },
    {
     "data": {
      "application/vnd.jupyter.widget-view+json": {
       "model_id": "8f451d11a23b4bd887f4eb5da7846598",
       "version_major": 2,
       "version_minor": 0
      },
      "text/plain": [
       "0it [00:00, ?it/s]"
      ]
     },
     "metadata": {},
     "output_type": "display_data"
    },
    {
     "data": {
      "application/vnd.jupyter.widget-view+json": {
       "model_id": "09816c77b27a4c55b4c411995458a598",
       "version_major": 2,
       "version_minor": 0
      },
      "text/plain": [
       "0it [00:00, ?it/s]"
      ]
     },
     "metadata": {},
     "output_type": "display_data"
    },
    {
     "data": {
      "application/vnd.jupyter.widget-view+json": {
       "model_id": "76ed70a7e2e14407a323f9c32a68d043",
       "version_major": 2,
       "version_minor": 0
      },
      "text/plain": [
       "0it [00:00, ?it/s]"
      ]
     },
     "metadata": {},
     "output_type": "display_data"
    },
    {
     "data": {
      "application/vnd.jupyter.widget-view+json": {
       "model_id": "582901bf2b17447c8a773d5cd02ba0f0",
       "version_major": 2,
       "version_minor": 0
      },
      "text/plain": [
       "0it [00:00, ?it/s]"
      ]
     },
     "metadata": {},
     "output_type": "display_data"
    },
    {
     "data": {
      "application/vnd.jupyter.widget-view+json": {
       "model_id": "35390e3154864513a600b54440c20d64",
       "version_major": 2,
       "version_minor": 0
      },
      "text/plain": [
       "0it [00:00, ?it/s]"
      ]
     },
     "metadata": {},
     "output_type": "display_data"
    },
    {
     "data": {
      "application/vnd.jupyter.widget-view+json": {
       "model_id": "d2267f95f4e24555a866b43b912860a8",
       "version_major": 2,
       "version_minor": 0
      },
      "text/plain": [
       "0it [00:00, ?it/s]"
      ]
     },
     "metadata": {},
     "output_type": "display_data"
    },
    {
     "data": {
      "application/vnd.jupyter.widget-view+json": {
       "model_id": "efd2389d9ea44b01ae9237d57ad547aa",
       "version_major": 2,
       "version_minor": 0
      },
      "text/plain": [
       "0it [00:00, ?it/s]"
      ]
     },
     "metadata": {},
     "output_type": "display_data"
    },
    {
     "data": {
      "application/vnd.jupyter.widget-view+json": {
       "model_id": "a708a3b0401940ecae5c26a6e900b4bd",
       "version_major": 2,
       "version_minor": 0
      },
      "text/plain": [
       "0it [00:00, ?it/s]"
      ]
     },
     "metadata": {},
     "output_type": "display_data"
    },
    {
     "data": {
      "application/vnd.jupyter.widget-view+json": {
       "model_id": "1ea8a3ba08cc4a55acada49784fad649",
       "version_major": 2,
       "version_minor": 0
      },
      "text/plain": [
       "0it [00:00, ?it/s]"
      ]
     },
     "metadata": {},
     "output_type": "display_data"
    },
    {
     "data": {
      "application/vnd.jupyter.widget-view+json": {
       "model_id": "0a9a20a5fcca4e23baa6ad9533721e0c",
       "version_major": 2,
       "version_minor": 0
      },
      "text/plain": [
       "0it [00:00, ?it/s]"
      ]
     },
     "metadata": {},
     "output_type": "display_data"
    },
    {
     "data": {
      "application/vnd.jupyter.widget-view+json": {
       "model_id": "50be27c7a21146ba827fe55b5c295ad4",
       "version_major": 2,
       "version_minor": 0
      },
      "text/plain": [
       "0it [00:00, ?it/s]"
      ]
     },
     "metadata": {},
     "output_type": "display_data"
    },
    {
     "data": {
      "application/vnd.jupyter.widget-view+json": {
       "model_id": "b8b04a44c79f4f52ae23e2d2c865b45c",
       "version_major": 2,
       "version_minor": 0
      },
      "text/plain": [
       "0it [00:00, ?it/s]"
      ]
     },
     "metadata": {},
     "output_type": "display_data"
    },
    {
     "data": {
      "application/vnd.jupyter.widget-view+json": {
       "model_id": "76b9acd7b1824097bfd89f335308e65f",
       "version_major": 2,
       "version_minor": 0
      },
      "text/plain": [
       "0it [00:00, ?it/s]"
      ]
     },
     "metadata": {},
     "output_type": "display_data"
    },
    {
     "data": {
      "application/vnd.jupyter.widget-view+json": {
       "model_id": "63727a63c8604844b33b74f8f266fc20",
       "version_major": 2,
       "version_minor": 0
      },
      "text/plain": [
       "0it [00:00, ?it/s]"
      ]
     },
     "metadata": {},
     "output_type": "display_data"
    },
    {
     "data": {
      "application/vnd.jupyter.widget-view+json": {
       "model_id": "e2a7074503204d17bc5eaa239f546463",
       "version_major": 2,
       "version_minor": 0
      },
      "text/plain": [
       "0it [00:00, ?it/s]"
      ]
     },
     "metadata": {},
     "output_type": "display_data"
    },
    {
     "data": {
      "application/vnd.jupyter.widget-view+json": {
       "model_id": "e7f175fcacdb40cead27deaaeb6f29d4",
       "version_major": 2,
       "version_minor": 0
      },
      "text/plain": [
       "0it [00:00, ?it/s]"
      ]
     },
     "metadata": {},
     "output_type": "display_data"
    },
    {
     "data": {
      "application/vnd.jupyter.widget-view+json": {
       "model_id": "9127035ee2554c5495ee38f799290e39",
       "version_major": 2,
       "version_minor": 0
      },
      "text/plain": [
       "0it [00:00, ?it/s]"
      ]
     },
     "metadata": {},
     "output_type": "display_data"
    },
    {
     "data": {
      "application/vnd.jupyter.widget-view+json": {
       "model_id": "b8279bcb4652476190f11f586e0ebfcc",
       "version_major": 2,
       "version_minor": 0
      },
      "text/plain": [
       "0it [00:00, ?it/s]"
      ]
     },
     "metadata": {},
     "output_type": "display_data"
    },
    {
     "data": {
      "application/vnd.jupyter.widget-view+json": {
       "model_id": "1b4aacaf210e43a6a528e4e0f9123ebd",
       "version_major": 2,
       "version_minor": 0
      },
      "text/plain": [
       "0it [00:00, ?it/s]"
      ]
     },
     "metadata": {},
     "output_type": "display_data"
    },
    {
     "data": {
      "application/vnd.jupyter.widget-view+json": {
       "model_id": "ce9b6ed47ac64ac2abae96a12e3e4435",
       "version_major": 2,
       "version_minor": 0
      },
      "text/plain": [
       "0it [00:00, ?it/s]"
      ]
     },
     "metadata": {},
     "output_type": "display_data"
    },
    {
     "data": {
      "application/vnd.jupyter.widget-view+json": {
       "model_id": "5b9d9a9b7b574cba8ed9fe81ce9896f9",
       "version_major": 2,
       "version_minor": 0
      },
      "text/plain": [
       "0it [00:00, ?it/s]"
      ]
     },
     "metadata": {},
     "output_type": "display_data"
    },
    {
     "data": {
      "application/vnd.jupyter.widget-view+json": {
       "model_id": "cf116db53ea74b53833ebe1eedeb115c",
       "version_major": 2,
       "version_minor": 0
      },
      "text/plain": [
       "0it [00:00, ?it/s]"
      ]
     },
     "metadata": {},
     "output_type": "display_data"
    },
    {
     "data": {
      "application/vnd.jupyter.widget-view+json": {
       "model_id": "2459ca05171c444887b34fbf226457c2",
       "version_major": 2,
       "version_minor": 0
      },
      "text/plain": [
       "0it [00:00, ?it/s]"
      ]
     },
     "metadata": {},
     "output_type": "display_data"
    },
    {
     "data": {
      "application/vnd.jupyter.widget-view+json": {
       "model_id": "4dc1387450b94352873cc938348c2ed1",
       "version_major": 2,
       "version_minor": 0
      },
      "text/plain": [
       "0it [00:00, ?it/s]"
      ]
     },
     "metadata": {},
     "output_type": "display_data"
    },
    {
     "data": {
      "application/vnd.jupyter.widget-view+json": {
       "model_id": "bfb6c025f6aa493189f54d1f9ac0db4b",
       "version_major": 2,
       "version_minor": 0
      },
      "text/plain": [
       "0it [00:00, ?it/s]"
      ]
     },
     "metadata": {},
     "output_type": "display_data"
    },
    {
     "data": {
      "application/vnd.jupyter.widget-view+json": {
       "model_id": "c268d543debf4af291e4f9fd813e9eca",
       "version_major": 2,
       "version_minor": 0
      },
      "text/plain": [
       "0it [00:00, ?it/s]"
      ]
     },
     "metadata": {},
     "output_type": "display_data"
    },
    {
     "data": {
      "application/vnd.jupyter.widget-view+json": {
       "model_id": "e8aa4a942d30437ab29c3c1affa37f18",
       "version_major": 2,
       "version_minor": 0
      },
      "text/plain": [
       "0it [00:00, ?it/s]"
      ]
     },
     "metadata": {},
     "output_type": "display_data"
    },
    {
     "data": {
      "application/vnd.jupyter.widget-view+json": {
       "model_id": "26460a1e2553481391e710b24c39ef7f",
       "version_major": 2,
       "version_minor": 0
      },
      "text/plain": [
       "0it [00:00, ?it/s]"
      ]
     },
     "metadata": {},
     "output_type": "display_data"
    },
    {
     "data": {
      "application/vnd.jupyter.widget-view+json": {
       "model_id": "0b4131616f4f4d54babfbfa556a3a176",
       "version_major": 2,
       "version_minor": 0
      },
      "text/plain": [
       "0it [00:00, ?it/s]"
      ]
     },
     "metadata": {},
     "output_type": "display_data"
    },
    {
     "data": {
      "application/vnd.jupyter.widget-view+json": {
       "model_id": "fb12ca86565544c986c45bb3cb539c57",
       "version_major": 2,
       "version_minor": 0
      },
      "text/plain": [
       "0it [00:00, ?it/s]"
      ]
     },
     "metadata": {},
     "output_type": "display_data"
    },
    {
     "data": {
      "application/vnd.jupyter.widget-view+json": {
       "model_id": "5d19668df5024e9b98709f070c767dd7",
       "version_major": 2,
       "version_minor": 0
      },
      "text/plain": [
       "0it [00:00, ?it/s]"
      ]
     },
     "metadata": {},
     "output_type": "display_data"
    },
    {
     "data": {
      "application/vnd.jupyter.widget-view+json": {
       "model_id": "e3aec6f6c1094479a5080249c1a95c29",
       "version_major": 2,
       "version_minor": 0
      },
      "text/plain": [
       "0it [00:00, ?it/s]"
      ]
     },
     "metadata": {},
     "output_type": "display_data"
    },
    {
     "data": {
      "application/vnd.jupyter.widget-view+json": {
       "model_id": "29c1388eafe941ffa2b5053181240687",
       "version_major": 2,
       "version_minor": 0
      },
      "text/plain": [
       "0it [00:00, ?it/s]"
      ]
     },
     "metadata": {},
     "output_type": "display_data"
    },
    {
     "data": {
      "application/vnd.jupyter.widget-view+json": {
       "model_id": "57de05d911e0426ca8cd3e8eae0b9480",
       "version_major": 2,
       "version_minor": 0
      },
      "text/plain": [
       "0it [00:00, ?it/s]"
      ]
     },
     "metadata": {},
     "output_type": "display_data"
    },
    {
     "data": {
      "application/vnd.jupyter.widget-view+json": {
       "model_id": "729eb91e17e346ad959a38f166fedf33",
       "version_major": 2,
       "version_minor": 0
      },
      "text/plain": [
       "0it [00:00, ?it/s]"
      ]
     },
     "metadata": {},
     "output_type": "display_data"
    },
    {
     "data": {
      "application/vnd.jupyter.widget-view+json": {
       "model_id": "62f7659df4e743e5b4c6df110a991e1e",
       "version_major": 2,
       "version_minor": 0
      },
      "text/plain": [
       "0it [00:00, ?it/s]"
      ]
     },
     "metadata": {},
     "output_type": "display_data"
    },
    {
     "data": {
      "application/vnd.jupyter.widget-view+json": {
       "model_id": "20bdb696da0f4ed6870524f721edd7c7",
       "version_major": 2,
       "version_minor": 0
      },
      "text/plain": [
       "0it [00:00, ?it/s]"
      ]
     },
     "metadata": {},
     "output_type": "display_data"
    },
    {
     "data": {
      "application/vnd.jupyter.widget-view+json": {
       "model_id": "8cf19b3b78b64cf78dda2a86c26d90fa",
       "version_major": 2,
       "version_minor": 0
      },
      "text/plain": [
       "0it [00:00, ?it/s]"
      ]
     },
     "metadata": {},
     "output_type": "display_data"
    },
    {
     "data": {
      "application/vnd.jupyter.widget-view+json": {
       "model_id": "a322b2124695480180900941a42e0c1e",
       "version_major": 2,
       "version_minor": 0
      },
      "text/plain": [
       "0it [00:00, ?it/s]"
      ]
     },
     "metadata": {},
     "output_type": "display_data"
    },
    {
     "data": {
      "application/vnd.jupyter.widget-view+json": {
       "model_id": "3046c12d518d42389406f567e36a6206",
       "version_major": 2,
       "version_minor": 0
      },
      "text/plain": [
       "0it [00:00, ?it/s]"
      ]
     },
     "metadata": {},
     "output_type": "display_data"
    },
    {
     "data": {
      "application/vnd.jupyter.widget-view+json": {
       "model_id": "f1137e5bd6224a5a966ba19e04469eb9",
       "version_major": 2,
       "version_minor": 0
      },
      "text/plain": [
       "0it [00:00, ?it/s]"
      ]
     },
     "metadata": {},
     "output_type": "display_data"
    },
    {
     "data": {
      "application/vnd.jupyter.widget-view+json": {
       "model_id": "7a511c7b1ca74e68874a024d06691568",
       "version_major": 2,
       "version_minor": 0
      },
      "text/plain": [
       "0it [00:00, ?it/s]"
      ]
     },
     "metadata": {},
     "output_type": "display_data"
    },
    {
     "data": {
      "application/vnd.jupyter.widget-view+json": {
       "model_id": "6094faae3f654ddbb6e8a0d554614783",
       "version_major": 2,
       "version_minor": 0
      },
      "text/plain": [
       "0it [00:00, ?it/s]"
      ]
     },
     "metadata": {},
     "output_type": "display_data"
    },
    {
     "data": {
      "application/vnd.jupyter.widget-view+json": {
       "model_id": "f58a60b45d4041d982e1e923a15c5bf3",
       "version_major": 2,
       "version_minor": 0
      },
      "text/plain": [
       "0it [00:00, ?it/s]"
      ]
     },
     "metadata": {},
     "output_type": "display_data"
    },
    {
     "data": {
      "application/vnd.jupyter.widget-view+json": {
       "model_id": "c76d4e73756240ecaf764d246d379c13",
       "version_major": 2,
       "version_minor": 0
      },
      "text/plain": [
       "0it [00:00, ?it/s]"
      ]
     },
     "metadata": {},
     "output_type": "display_data"
    },
    {
     "data": {
      "application/vnd.jupyter.widget-view+json": {
       "model_id": "25e13d3509be411180fe1eac2f030cef",
       "version_major": 2,
       "version_minor": 0
      },
      "text/plain": [
       "0it [00:00, ?it/s]"
      ]
     },
     "metadata": {},
     "output_type": "display_data"
    },
    {
     "data": {
      "application/vnd.jupyter.widget-view+json": {
       "model_id": "2d21a9bf7a2c48b7906748c6f7949e83",
       "version_major": 2,
       "version_minor": 0
      },
      "text/plain": [
       "0it [00:00, ?it/s]"
      ]
     },
     "metadata": {},
     "output_type": "display_data"
    },
    {
     "data": {
      "application/vnd.jupyter.widget-view+json": {
       "model_id": "6698c8e5038949cf8b6d4886bd2c8fe7",
       "version_major": 2,
       "version_minor": 0
      },
      "text/plain": [
       "0it [00:00, ?it/s]"
      ]
     },
     "metadata": {},
     "output_type": "display_data"
    },
    {
     "data": {
      "application/vnd.jupyter.widget-view+json": {
       "model_id": "142f7c50af6f418d84a04151aca78a9e",
       "version_major": 2,
       "version_minor": 0
      },
      "text/plain": [
       "0it [00:00, ?it/s]"
      ]
     },
     "metadata": {},
     "output_type": "display_data"
    },
    {
     "data": {
      "application/vnd.jupyter.widget-view+json": {
       "model_id": "01d3ad840cc24e9db54e9bb51de2aa08",
       "version_major": 2,
       "version_minor": 0
      },
      "text/plain": [
       "0it [00:00, ?it/s]"
      ]
     },
     "metadata": {},
     "output_type": "display_data"
    },
    {
     "data": {
      "application/vnd.jupyter.widget-view+json": {
       "model_id": "f5517186ef93440bae396bb675d51899",
       "version_major": 2,
       "version_minor": 0
      },
      "text/plain": [
       "0it [00:00, ?it/s]"
      ]
     },
     "metadata": {},
     "output_type": "display_data"
    },
    {
     "data": {
      "application/vnd.jupyter.widget-view+json": {
       "model_id": "6818cc1d5b974c42b06b27bd82c6c488",
       "version_major": 2,
       "version_minor": 0
      },
      "text/plain": [
       "0it [00:00, ?it/s]"
      ]
     },
     "metadata": {},
     "output_type": "display_data"
    },
    {
     "data": {
      "application/vnd.jupyter.widget-view+json": {
       "model_id": "47b1bf1f7a8545feb95617d3e76eec06",
       "version_major": 2,
       "version_minor": 0
      },
      "text/plain": [
       "0it [00:00, ?it/s]"
      ]
     },
     "metadata": {},
     "output_type": "display_data"
    },
    {
     "data": {
      "application/vnd.jupyter.widget-view+json": {
       "model_id": "99989c242637447aa9808d24c7294721",
       "version_major": 2,
       "version_minor": 0
      },
      "text/plain": [
       "0it [00:00, ?it/s]"
      ]
     },
     "metadata": {},
     "output_type": "display_data"
    },
    {
     "data": {
      "application/vnd.jupyter.widget-view+json": {
       "model_id": "234d6eb87a9041ee84ed28a22466eef2",
       "version_major": 2,
       "version_minor": 0
      },
      "text/plain": [
       "0it [00:00, ?it/s]"
      ]
     },
     "metadata": {},
     "output_type": "display_data"
    },
    {
     "data": {
      "application/vnd.jupyter.widget-view+json": {
       "model_id": "3a8f562218244c118d3347b3e5e95ad4",
       "version_major": 2,
       "version_minor": 0
      },
      "text/plain": [
       "0it [00:00, ?it/s]"
      ]
     },
     "metadata": {},
     "output_type": "display_data"
    },
    {
     "data": {
      "application/vnd.jupyter.widget-view+json": {
       "model_id": "08bd45da1d0b4e979f02a368b763ed6a",
       "version_major": 2,
       "version_minor": 0
      },
      "text/plain": [
       "0it [00:00, ?it/s]"
      ]
     },
     "metadata": {},
     "output_type": "display_data"
    },
    {
     "data": {
      "application/vnd.jupyter.widget-view+json": {
       "model_id": "78e37da9d2da4b238ec1564fd88a3d87",
       "version_major": 2,
       "version_minor": 0
      },
      "text/plain": [
       "0it [00:00, ?it/s]"
      ]
     },
     "metadata": {},
     "output_type": "display_data"
    },
    {
     "data": {
      "application/vnd.jupyter.widget-view+json": {
       "model_id": "e6769b0cab954e0e8f18318bbf6ef86f",
       "version_major": 2,
       "version_minor": 0
      },
      "text/plain": [
       "0it [00:00, ?it/s]"
      ]
     },
     "metadata": {},
     "output_type": "display_data"
    },
    {
     "data": {
      "application/vnd.jupyter.widget-view+json": {
       "model_id": "21541bb1fa8b4a5b8bee39772322c269",
       "version_major": 2,
       "version_minor": 0
      },
      "text/plain": [
       "0it [00:00, ?it/s]"
      ]
     },
     "metadata": {},
     "output_type": "display_data"
    },
    {
     "data": {
      "application/vnd.jupyter.widget-view+json": {
       "model_id": "e941feea15264b8c966abd0a2a37b920",
       "version_major": 2,
       "version_minor": 0
      },
      "text/plain": [
       "0it [00:00, ?it/s]"
      ]
     },
     "metadata": {},
     "output_type": "display_data"
    },
    {
     "data": {
      "application/vnd.jupyter.widget-view+json": {
       "model_id": "46b6fe5b535b46819a3363fcd2ffc64e",
       "version_major": 2,
       "version_minor": 0
      },
      "text/plain": [
       "0it [00:00, ?it/s]"
      ]
     },
     "metadata": {},
     "output_type": "display_data"
    },
    {
     "data": {
      "application/vnd.jupyter.widget-view+json": {
       "model_id": "7a1dc1ff829c4ce8a221324aefb0ecd2",
       "version_major": 2,
       "version_minor": 0
      },
      "text/plain": [
       "0it [00:00, ?it/s]"
      ]
     },
     "metadata": {},
     "output_type": "display_data"
    },
    {
     "data": {
      "application/vnd.jupyter.widget-view+json": {
       "model_id": "88c5b2ed86ed47038024a1ffcdf05ed9",
       "version_major": 2,
       "version_minor": 0
      },
      "text/plain": [
       "0it [00:00, ?it/s]"
      ]
     },
     "metadata": {},
     "output_type": "display_data"
    },
    {
     "data": {
      "application/vnd.jupyter.widget-view+json": {
       "model_id": "4f8944638d4f471699b1d1ed0f47507a",
       "version_major": 2,
       "version_minor": 0
      },
      "text/plain": [
       "0it [00:00, ?it/s]"
      ]
     },
     "metadata": {},
     "output_type": "display_data"
    },
    {
     "data": {
      "application/vnd.jupyter.widget-view+json": {
       "model_id": "a5d0db8d774a416f87f0e5f817df7f99",
       "version_major": 2,
       "version_minor": 0
      },
      "text/plain": [
       "0it [00:00, ?it/s]"
      ]
     },
     "metadata": {},
     "output_type": "display_data"
    },
    {
     "data": {
      "application/vnd.jupyter.widget-view+json": {
       "model_id": "aa363cab54db4808a42d985b4549f5aa",
       "version_major": 2,
       "version_minor": 0
      },
      "text/plain": [
       "0it [00:00, ?it/s]"
      ]
     },
     "metadata": {},
     "output_type": "display_data"
    },
    {
     "data": {
      "application/vnd.jupyter.widget-view+json": {
       "model_id": "9f764a8a742b4679bad833348f0c15ca",
       "version_major": 2,
       "version_minor": 0
      },
      "text/plain": [
       "0it [00:00, ?it/s]"
      ]
     },
     "metadata": {},
     "output_type": "display_data"
    },
    {
     "data": {
      "application/vnd.jupyter.widget-view+json": {
       "model_id": "5876e276614543f6a5d5e7dd946b6cda",
       "version_major": 2,
       "version_minor": 0
      },
      "text/plain": [
       "0it [00:00, ?it/s]"
      ]
     },
     "metadata": {},
     "output_type": "display_data"
    },
    {
     "data": {
      "application/vnd.jupyter.widget-view+json": {
       "model_id": "6579868f9d1f4de29ee848f6d699c757",
       "version_major": 2,
       "version_minor": 0
      },
      "text/plain": [
       "0it [00:00, ?it/s]"
      ]
     },
     "metadata": {},
     "output_type": "display_data"
    },
    {
     "data": {
      "application/vnd.jupyter.widget-view+json": {
       "model_id": "3c08d2b393c440649458b15305758754",
       "version_major": 2,
       "version_minor": 0
      },
      "text/plain": [
       "0it [00:00, ?it/s]"
      ]
     },
     "metadata": {},
     "output_type": "display_data"
    },
    {
     "data": {
      "application/vnd.jupyter.widget-view+json": {
       "model_id": "1eac52aecf5e481393249705a43a8699",
       "version_major": 2,
       "version_minor": 0
      },
      "text/plain": [
       "0it [00:00, ?it/s]"
      ]
     },
     "metadata": {},
     "output_type": "display_data"
    },
    {
     "data": {
      "application/vnd.jupyter.widget-view+json": {
       "model_id": "6fa41b75a8ab4b379e43ff5408a91482",
       "version_major": 2,
       "version_minor": 0
      },
      "text/plain": [
       "0it [00:00, ?it/s]"
      ]
     },
     "metadata": {},
     "output_type": "display_data"
    },
    {
     "data": {
      "application/vnd.jupyter.widget-view+json": {
       "model_id": "9ba9ec3ef32c426286583e6b306d6748",
       "version_major": 2,
       "version_minor": 0
      },
      "text/plain": [
       "0it [00:00, ?it/s]"
      ]
     },
     "metadata": {},
     "output_type": "display_data"
    },
    {
     "data": {
      "application/vnd.jupyter.widget-view+json": {
       "model_id": "41fc47afd0664b63bc22f299c9eeb35c",
       "version_major": 2,
       "version_minor": 0
      },
      "text/plain": [
       "0it [00:00, ?it/s]"
      ]
     },
     "metadata": {},
     "output_type": "display_data"
    },
    {
     "data": {
      "application/vnd.jupyter.widget-view+json": {
       "model_id": "ff84dfbb86c148bcac0520be8beb989b",
       "version_major": 2,
       "version_minor": 0
      },
      "text/plain": [
       "0it [00:00, ?it/s]"
      ]
     },
     "metadata": {},
     "output_type": "display_data"
    },
    {
     "data": {
      "application/vnd.jupyter.widget-view+json": {
       "model_id": "d62215fe695948c8bcfcffe683404903",
       "version_major": 2,
       "version_minor": 0
      },
      "text/plain": [
       "0it [00:00, ?it/s]"
      ]
     },
     "metadata": {},
     "output_type": "display_data"
    },
    {
     "data": {
      "application/vnd.jupyter.widget-view+json": {
       "model_id": "7fe902f89c6e4eb78dfdc44c945049a6",
       "version_major": 2,
       "version_minor": 0
      },
      "text/plain": [
       "0it [00:00, ?it/s]"
      ]
     },
     "metadata": {},
     "output_type": "display_data"
    },
    {
     "data": {
      "application/vnd.jupyter.widget-view+json": {
       "model_id": "9245e4540d7c44b88378f6ea06f91e38",
       "version_major": 2,
       "version_minor": 0
      },
      "text/plain": [
       "0it [00:00, ?it/s]"
      ]
     },
     "metadata": {},
     "output_type": "display_data"
    },
    {
     "data": {
      "application/vnd.jupyter.widget-view+json": {
       "model_id": "2c8ba253fa12492c9a4bebe6fb16bf79",
       "version_major": 2,
       "version_minor": 0
      },
      "text/plain": [
       "0it [00:00, ?it/s]"
      ]
     },
     "metadata": {},
     "output_type": "display_data"
    },
    {
     "data": {
      "application/vnd.jupyter.widget-view+json": {
       "model_id": "963139000d0a4ed894e6b7e3a5aa153a",
       "version_major": 2,
       "version_minor": 0
      },
      "text/plain": [
       "0it [00:00, ?it/s]"
      ]
     },
     "metadata": {},
     "output_type": "display_data"
    },
    {
     "data": {
      "application/vnd.jupyter.widget-view+json": {
       "model_id": "21fe3bac7ed945a69958a41307dba1b3",
       "version_major": 2,
       "version_minor": 0
      },
      "text/plain": [
       "0it [00:00, ?it/s]"
      ]
     },
     "metadata": {},
     "output_type": "display_data"
    },
    {
     "data": {
      "application/vnd.jupyter.widget-view+json": {
       "model_id": "9ce6329203f14df8ac1aec0fa4aca3ab",
       "version_major": 2,
       "version_minor": 0
      },
      "text/plain": [
       "0it [00:00, ?it/s]"
      ]
     },
     "metadata": {},
     "output_type": "display_data"
    },
    {
     "data": {
      "application/vnd.jupyter.widget-view+json": {
       "model_id": "6463d2babdd44033a8286fed60e95e4e",
       "version_major": 2,
       "version_minor": 0
      },
      "text/plain": [
       "0it [00:00, ?it/s]"
      ]
     },
     "metadata": {},
     "output_type": "display_data"
    },
    {
     "data": {
      "application/vnd.jupyter.widget-view+json": {
       "model_id": "000b3f701e3d4cd6acc47843198c2bf6",
       "version_major": 2,
       "version_minor": 0
      },
      "text/plain": [
       "0it [00:00, ?it/s]"
      ]
     },
     "metadata": {},
     "output_type": "display_data"
    },
    {
     "data": {
      "application/vnd.jupyter.widget-view+json": {
       "model_id": "77f5b8e607a34692ac2f26c8029bdb82",
       "version_major": 2,
       "version_minor": 0
      },
      "text/plain": [
       "0it [00:00, ?it/s]"
      ]
     },
     "metadata": {},
     "output_type": "display_data"
    },
    {
     "data": {
      "application/vnd.jupyter.widget-view+json": {
       "model_id": "328acb81b3764807a804e3be5acfe69d",
       "version_major": 2,
       "version_minor": 0
      },
      "text/plain": [
       "0it [00:00, ?it/s]"
      ]
     },
     "metadata": {},
     "output_type": "display_data"
    },
    {
     "data": {
      "application/vnd.jupyter.widget-view+json": {
       "model_id": "33871d605aa1484b84c49f8ec306bf11",
       "version_major": 2,
       "version_minor": 0
      },
      "text/plain": [
       "0it [00:00, ?it/s]"
      ]
     },
     "metadata": {},
     "output_type": "display_data"
    },
    {
     "data": {
      "application/vnd.jupyter.widget-view+json": {
       "model_id": "6690f32c442d423ea524514c37baf618",
       "version_major": 2,
       "version_minor": 0
      },
      "text/plain": [
       "0it [00:00, ?it/s]"
      ]
     },
     "metadata": {},
     "output_type": "display_data"
    },
    {
     "data": {
      "application/vnd.jupyter.widget-view+json": {
       "model_id": "908de3c8e5fe49cc95c406cc74bf4aa4",
       "version_major": 2,
       "version_minor": 0
      },
      "text/plain": [
       "0it [00:00, ?it/s]"
      ]
     },
     "metadata": {},
     "output_type": "display_data"
    },
    {
     "data": {
      "application/vnd.jupyter.widget-view+json": {
       "model_id": "a214031bb4dd4ff19e28b7648d5aea47",
       "version_major": 2,
       "version_minor": 0
      },
      "text/plain": [
       "0it [00:00, ?it/s]"
      ]
     },
     "metadata": {},
     "output_type": "display_data"
    },
    {
     "data": {
      "application/vnd.jupyter.widget-view+json": {
       "model_id": "31dd1c2168a54f6b9e48b8300b14abfc",
       "version_major": 2,
       "version_minor": 0
      },
      "text/plain": [
       "0it [00:00, ?it/s]"
      ]
     },
     "metadata": {},
     "output_type": "display_data"
    },
    {
     "data": {
      "application/vnd.jupyter.widget-view+json": {
       "model_id": "5427f1085825444690c11497b1ec5c82",
       "version_major": 2,
       "version_minor": 0
      },
      "text/plain": [
       "0it [00:00, ?it/s]"
      ]
     },
     "metadata": {},
     "output_type": "display_data"
    },
    {
     "data": {
      "application/vnd.jupyter.widget-view+json": {
       "model_id": "d73a2775edde481ab0f096d37c3b8270",
       "version_major": 2,
       "version_minor": 0
      },
      "text/plain": [
       "0it [00:00, ?it/s]"
      ]
     },
     "metadata": {},
     "output_type": "display_data"
    },
    {
     "data": {
      "application/vnd.jupyter.widget-view+json": {
       "model_id": "33df54957ed94645809698650220936b",
       "version_major": 2,
       "version_minor": 0
      },
      "text/plain": [
       "0it [00:00, ?it/s]"
      ]
     },
     "metadata": {},
     "output_type": "display_data"
    },
    {
     "data": {
      "application/vnd.jupyter.widget-view+json": {
       "model_id": "7e18b68f82d1474e9801e7d3bd0aff73",
       "version_major": 2,
       "version_minor": 0
      },
      "text/plain": [
       "0it [00:00, ?it/s]"
      ]
     },
     "metadata": {},
     "output_type": "display_data"
    },
    {
     "data": {
      "application/vnd.jupyter.widget-view+json": {
       "model_id": "7d31d1b786fd49fd93636dcda9d08940",
       "version_major": 2,
       "version_minor": 0
      },
      "text/plain": [
       "0it [00:00, ?it/s]"
      ]
     },
     "metadata": {},
     "output_type": "display_data"
    },
    {
     "data": {
      "application/vnd.jupyter.widget-view+json": {
       "model_id": "7e2b8b8fff4847bba6f14fbfff088f92",
       "version_major": 2,
       "version_minor": 0
      },
      "text/plain": [
       "0it [00:00, ?it/s]"
      ]
     },
     "metadata": {},
     "output_type": "display_data"
    },
    {
     "data": {
      "application/vnd.jupyter.widget-view+json": {
       "model_id": "8660dc692a6f4f7a98f71af31c754560",
       "version_major": 2,
       "version_minor": 0
      },
      "text/plain": [
       "0it [00:00, ?it/s]"
      ]
     },
     "metadata": {},
     "output_type": "display_data"
    },
    {
     "data": {
      "application/vnd.jupyter.widget-view+json": {
       "model_id": "7603d4669cd146718a8d3c4f6e61e18b",
       "version_major": 2,
       "version_minor": 0
      },
      "text/plain": [
       "0it [00:00, ?it/s]"
      ]
     },
     "metadata": {},
     "output_type": "display_data"
    },
    {
     "data": {
      "application/vnd.jupyter.widget-view+json": {
       "model_id": "94b7defb29864f6cb77776e49eb8c2a2",
       "version_major": 2,
       "version_minor": 0
      },
      "text/plain": [
       "0it [00:00, ?it/s]"
      ]
     },
     "metadata": {},
     "output_type": "display_data"
    },
    {
     "data": {
      "application/vnd.jupyter.widget-view+json": {
       "model_id": "59574852a20849c0a71597fb33e01c05",
       "version_major": 2,
       "version_minor": 0
      },
      "text/plain": [
       "0it [00:00, ?it/s]"
      ]
     },
     "metadata": {},
     "output_type": "display_data"
    },
    {
     "data": {
      "application/vnd.jupyter.widget-view+json": {
       "model_id": "55c38f00fd834d0587eaece472a56955",
       "version_major": 2,
       "version_minor": 0
      },
      "text/plain": [
       "0it [00:00, ?it/s]"
      ]
     },
     "metadata": {},
     "output_type": "display_data"
    },
    {
     "data": {
      "application/vnd.jupyter.widget-view+json": {
       "model_id": "5ac9e744b75b42249d37c4339609497d",
       "version_major": 2,
       "version_minor": 0
      },
      "text/plain": [
       "0it [00:00, ?it/s]"
      ]
     },
     "metadata": {},
     "output_type": "display_data"
    },
    {
     "data": {
      "application/vnd.jupyter.widget-view+json": {
       "model_id": "7978762d20c6464ba5b3469482541561",
       "version_major": 2,
       "version_minor": 0
      },
      "text/plain": [
       "0it [00:00, ?it/s]"
      ]
     },
     "metadata": {},
     "output_type": "display_data"
    },
    {
     "data": {
      "application/vnd.jupyter.widget-view+json": {
       "model_id": "859aa506c67d40ee99a30d8d9621cfe6",
       "version_major": 2,
       "version_minor": 0
      },
      "text/plain": [
       "0it [00:00, ?it/s]"
      ]
     },
     "metadata": {},
     "output_type": "display_data"
    },
    {
     "data": {
      "application/vnd.jupyter.widget-view+json": {
       "model_id": "cf2a86430e2949e0ba997ffe9eda154a",
       "version_major": 2,
       "version_minor": 0
      },
      "text/plain": [
       "0it [00:00, ?it/s]"
      ]
     },
     "metadata": {},
     "output_type": "display_data"
    },
    {
     "data": {
      "application/vnd.jupyter.widget-view+json": {
       "model_id": "be36d336c0c942428fa6b35f3de8d0c0",
       "version_major": 2,
       "version_minor": 0
      },
      "text/plain": [
       "0it [00:00, ?it/s]"
      ]
     },
     "metadata": {},
     "output_type": "display_data"
    },
    {
     "data": {
      "application/vnd.jupyter.widget-view+json": {
       "model_id": "46309cb24c754c778f8381c9a75cad2b",
       "version_major": 2,
       "version_minor": 0
      },
      "text/plain": [
       "0it [00:00, ?it/s]"
      ]
     },
     "metadata": {},
     "output_type": "display_data"
    },
    {
     "data": {
      "application/vnd.jupyter.widget-view+json": {
       "model_id": "9bf21e60ec41458389f6e43eeec3a261",
       "version_major": 2,
       "version_minor": 0
      },
      "text/plain": [
       "0it [00:00, ?it/s]"
      ]
     },
     "metadata": {},
     "output_type": "display_data"
    },
    {
     "data": {
      "application/vnd.jupyter.widget-view+json": {
       "model_id": "baef79871e08417ebedf70c354d1e1bd",
       "version_major": 2,
       "version_minor": 0
      },
      "text/plain": [
       "0it [00:00, ?it/s]"
      ]
     },
     "metadata": {},
     "output_type": "display_data"
    },
    {
     "data": {
      "application/vnd.jupyter.widget-view+json": {
       "model_id": "b99903cffbe04c4e96fbc6b79f5624c0",
       "version_major": 2,
       "version_minor": 0
      },
      "text/plain": [
       "0it [00:00, ?it/s]"
      ]
     },
     "metadata": {},
     "output_type": "display_data"
    },
    {
     "data": {
      "application/vnd.jupyter.widget-view+json": {
       "model_id": "361a10d956cd49b59164157f27d72438",
       "version_major": 2,
       "version_minor": 0
      },
      "text/plain": [
       "0it [00:00, ?it/s]"
      ]
     },
     "metadata": {},
     "output_type": "display_data"
    },
    {
     "data": {
      "application/vnd.jupyter.widget-view+json": {
       "model_id": "1544a419bb384dab93ff477af4755327",
       "version_major": 2,
       "version_minor": 0
      },
      "text/plain": [
       "0it [00:00, ?it/s]"
      ]
     },
     "metadata": {},
     "output_type": "display_data"
    },
    {
     "data": {
      "application/vnd.jupyter.widget-view+json": {
       "model_id": "aa14ea5b1a764fa2a17512384e475a92",
       "version_major": 2,
       "version_minor": 0
      },
      "text/plain": [
       "0it [00:00, ?it/s]"
      ]
     },
     "metadata": {},
     "output_type": "display_data"
    },
    {
     "data": {
      "application/vnd.jupyter.widget-view+json": {
       "model_id": "2077808e1bc546b285f9ea5d77c5ece6",
       "version_major": 2,
       "version_minor": 0
      },
      "text/plain": [
       "0it [00:00, ?it/s]"
      ]
     },
     "metadata": {},
     "output_type": "display_data"
    },
    {
     "data": {
      "application/vnd.jupyter.widget-view+json": {
       "model_id": "c467c2dda80d4158a89c92385c5d7318",
       "version_major": 2,
       "version_minor": 0
      },
      "text/plain": [
       "0it [00:00, ?it/s]"
      ]
     },
     "metadata": {},
     "output_type": "display_data"
    },
    {
     "data": {
      "application/vnd.jupyter.widget-view+json": {
       "model_id": "7f1531869a56420b8289199eeff582a1",
       "version_major": 2,
       "version_minor": 0
      },
      "text/plain": [
       "0it [00:00, ?it/s]"
      ]
     },
     "metadata": {},
     "output_type": "display_data"
    },
    {
     "data": {
      "application/vnd.jupyter.widget-view+json": {
       "model_id": "aba0debb4eb64a35b8dca4bb0771dac7",
       "version_major": 2,
       "version_minor": 0
      },
      "text/plain": [
       "0it [00:00, ?it/s]"
      ]
     },
     "metadata": {},
     "output_type": "display_data"
    },
    {
     "data": {
      "application/vnd.jupyter.widget-view+json": {
       "model_id": "dd35982fdd4847b49de1d376467fbe25",
       "version_major": 2,
       "version_minor": 0
      },
      "text/plain": [
       "0it [00:00, ?it/s]"
      ]
     },
     "metadata": {},
     "output_type": "display_data"
    },
    {
     "data": {
      "application/vnd.jupyter.widget-view+json": {
       "model_id": "79389d3527cf4e5cba39f422705df7ac",
       "version_major": 2,
       "version_minor": 0
      },
      "text/plain": [
       "0it [00:00, ?it/s]"
      ]
     },
     "metadata": {},
     "output_type": "display_data"
    },
    {
     "data": {
      "application/vnd.jupyter.widget-view+json": {
       "model_id": "5854334e584b483cabc6ca41c583c4e0",
       "version_major": 2,
       "version_minor": 0
      },
      "text/plain": [
       "0it [00:00, ?it/s]"
      ]
     },
     "metadata": {},
     "output_type": "display_data"
    },
    {
     "data": {
      "application/vnd.jupyter.widget-view+json": {
       "model_id": "88d66da62d9b4d9b900e8ae6913af336",
       "version_major": 2,
       "version_minor": 0
      },
      "text/plain": [
       "0it [00:00, ?it/s]"
      ]
     },
     "metadata": {},
     "output_type": "display_data"
    },
    {
     "data": {
      "application/vnd.jupyter.widget-view+json": {
       "model_id": "cdc2593f0f4641ddb1abb3d7cea82a13",
       "version_major": 2,
       "version_minor": 0
      },
      "text/plain": [
       "0it [00:00, ?it/s]"
      ]
     },
     "metadata": {},
     "output_type": "display_data"
    },
    {
     "data": {
      "application/vnd.jupyter.widget-view+json": {
       "model_id": "53d0348b0de64e19ab35cffaf68b41f3",
       "version_major": 2,
       "version_minor": 0
      },
      "text/plain": [
       "0it [00:00, ?it/s]"
      ]
     },
     "metadata": {},
     "output_type": "display_data"
    },
    {
     "data": {
      "application/vnd.jupyter.widget-view+json": {
       "model_id": "7b4ca04efc7b4acab0ad5a346b197cb0",
       "version_major": 2,
       "version_minor": 0
      },
      "text/plain": [
       "0it [00:00, ?it/s]"
      ]
     },
     "metadata": {},
     "output_type": "display_data"
    },
    {
     "data": {
      "application/vnd.jupyter.widget-view+json": {
       "model_id": "446bb3bbfe1f4ca99610632b4e33c80b",
       "version_major": 2,
       "version_minor": 0
      },
      "text/plain": [
       "0it [00:00, ?it/s]"
      ]
     },
     "metadata": {},
     "output_type": "display_data"
    },
    {
     "data": {
      "application/vnd.jupyter.widget-view+json": {
       "model_id": "c31e15a8d3b8475a8551562d91c7d3fc",
       "version_major": 2,
       "version_minor": 0
      },
      "text/plain": [
       "0it [00:00, ?it/s]"
      ]
     },
     "metadata": {},
     "output_type": "display_data"
    },
    {
     "data": {
      "application/vnd.jupyter.widget-view+json": {
       "model_id": "dbf6309fcd4d442097a48e3af1e54513",
       "version_major": 2,
       "version_minor": 0
      },
      "text/plain": [
       "0it [00:00, ?it/s]"
      ]
     },
     "metadata": {},
     "output_type": "display_data"
    },
    {
     "data": {
      "application/vnd.jupyter.widget-view+json": {
       "model_id": "e9b74f9498fd4208bb730ebc18a156bb",
       "version_major": 2,
       "version_minor": 0
      },
      "text/plain": [
       "0it [00:00, ?it/s]"
      ]
     },
     "metadata": {},
     "output_type": "display_data"
    },
    {
     "data": {
      "application/vnd.jupyter.widget-view+json": {
       "model_id": "d3e16d3f928f4a54b950fa5167099447",
       "version_major": 2,
       "version_minor": 0
      },
      "text/plain": [
       "0it [00:00, ?it/s]"
      ]
     },
     "metadata": {},
     "output_type": "display_data"
    },
    {
     "data": {
      "application/vnd.jupyter.widget-view+json": {
       "model_id": "02bb1acfd0fa4ec0a80d571dca447edf",
       "version_major": 2,
       "version_minor": 0
      },
      "text/plain": [
       "0it [00:00, ?it/s]"
      ]
     },
     "metadata": {},
     "output_type": "display_data"
    },
    {
     "data": {
      "application/vnd.jupyter.widget-view+json": {
       "model_id": "6965757563e94410bd16a92b926b9191",
       "version_major": 2,
       "version_minor": 0
      },
      "text/plain": [
       "0it [00:00, ?it/s]"
      ]
     },
     "metadata": {},
     "output_type": "display_data"
    },
    {
     "data": {
      "application/vnd.jupyter.widget-view+json": {
       "model_id": "75d516ab79bc42e799d88db1f3174804",
       "version_major": 2,
       "version_minor": 0
      },
      "text/plain": [
       "0it [00:00, ?it/s]"
      ]
     },
     "metadata": {},
     "output_type": "display_data"
    },
    {
     "data": {
      "application/vnd.jupyter.widget-view+json": {
       "model_id": "05c60e6e20b049b9b38101d4d6578e5f",
       "version_major": 2,
       "version_minor": 0
      },
      "text/plain": [
       "0it [00:00, ?it/s]"
      ]
     },
     "metadata": {},
     "output_type": "display_data"
    },
    {
     "data": {
      "application/vnd.jupyter.widget-view+json": {
       "model_id": "e67a5ab0a6cd42fda01bdcb0e6c0b57c",
       "version_major": 2,
       "version_minor": 0
      },
      "text/plain": [
       "0it [00:00, ?it/s]"
      ]
     },
     "metadata": {},
     "output_type": "display_data"
    },
    {
     "data": {
      "application/vnd.jupyter.widget-view+json": {
       "model_id": "c4c57bb8646d4a97847a3b7393940f8b",
       "version_major": 2,
       "version_minor": 0
      },
      "text/plain": [
       "0it [00:00, ?it/s]"
      ]
     },
     "metadata": {},
     "output_type": "display_data"
    },
    {
     "data": {
      "application/vnd.jupyter.widget-view+json": {
       "model_id": "3db31f7ed7bf42b1a551d9bda031fde1",
       "version_major": 2,
       "version_minor": 0
      },
      "text/plain": [
       "0it [00:00, ?it/s]"
      ]
     },
     "metadata": {},
     "output_type": "display_data"
    },
    {
     "data": {
      "application/vnd.jupyter.widget-view+json": {
       "model_id": "33b412fbc0dd4e13b3363c853022e500",
       "version_major": 2,
       "version_minor": 0
      },
      "text/plain": [
       "0it [00:00, ?it/s]"
      ]
     },
     "metadata": {},
     "output_type": "display_data"
    },
    {
     "data": {
      "application/vnd.jupyter.widget-view+json": {
       "model_id": "670e301bb2de479ea8a6472f07f446eb",
       "version_major": 2,
       "version_minor": 0
      },
      "text/plain": [
       "0it [00:00, ?it/s]"
      ]
     },
     "metadata": {},
     "output_type": "display_data"
    },
    {
     "data": {
      "application/vnd.jupyter.widget-view+json": {
       "model_id": "2fab2cddb4ab4e698fbf5a4ffabf4256",
       "version_major": 2,
       "version_minor": 0
      },
      "text/plain": [
       "0it [00:00, ?it/s]"
      ]
     },
     "metadata": {},
     "output_type": "display_data"
    },
    {
     "data": {
      "application/vnd.jupyter.widget-view+json": {
       "model_id": "82bb5ad96a1c4b2b9386148fbc0b5efb",
       "version_major": 2,
       "version_minor": 0
      },
      "text/plain": [
       "0it [00:00, ?it/s]"
      ]
     },
     "metadata": {},
     "output_type": "display_data"
    },
    {
     "data": {
      "application/vnd.jupyter.widget-view+json": {
       "model_id": "4f7e988a14374528953a09014770500b",
       "version_major": 2,
       "version_minor": 0
      },
      "text/plain": [
       "0it [00:00, ?it/s]"
      ]
     },
     "metadata": {},
     "output_type": "display_data"
    },
    {
     "data": {
      "application/vnd.jupyter.widget-view+json": {
       "model_id": "375b4b77c62841978548acfdeea417fa",
       "version_major": 2,
       "version_minor": 0
      },
      "text/plain": [
       "0it [00:00, ?it/s]"
      ]
     },
     "metadata": {},
     "output_type": "display_data"
    },
    {
     "data": {
      "application/vnd.jupyter.widget-view+json": {
       "model_id": "99322ae38d8345ba9ed655a536c5e9da",
       "version_major": 2,
       "version_minor": 0
      },
      "text/plain": [
       "0it [00:00, ?it/s]"
      ]
     },
     "metadata": {},
     "output_type": "display_data"
    },
    {
     "data": {
      "application/vnd.jupyter.widget-view+json": {
       "model_id": "26079b0fe42041fc93f9f46956b53949",
       "version_major": 2,
       "version_minor": 0
      },
      "text/plain": [
       "0it [00:00, ?it/s]"
      ]
     },
     "metadata": {},
     "output_type": "display_data"
    },
    {
     "data": {
      "application/vnd.jupyter.widget-view+json": {
       "model_id": "63d21ac5d82240a09fcfe86e1564d91f",
       "version_major": 2,
       "version_minor": 0
      },
      "text/plain": [
       "0it [00:00, ?it/s]"
      ]
     },
     "metadata": {},
     "output_type": "display_data"
    },
    {
     "data": {
      "application/vnd.jupyter.widget-view+json": {
       "model_id": "52197bae3fe643f790d8fc7c2e7bd1cd",
       "version_major": 2,
       "version_minor": 0
      },
      "text/plain": [
       "0it [00:00, ?it/s]"
      ]
     },
     "metadata": {},
     "output_type": "display_data"
    },
    {
     "data": {
      "application/vnd.jupyter.widget-view+json": {
       "model_id": "4324a119e45d417cb54d5234490e93ca",
       "version_major": 2,
       "version_minor": 0
      },
      "text/plain": [
       "0it [00:00, ?it/s]"
      ]
     },
     "metadata": {},
     "output_type": "display_data"
    },
    {
     "data": {
      "application/vnd.jupyter.widget-view+json": {
       "model_id": "e86843718efe44a68547bf4a60f569c4",
       "version_major": 2,
       "version_minor": 0
      },
      "text/plain": [
       "0it [00:00, ?it/s]"
      ]
     },
     "metadata": {},
     "output_type": "display_data"
    },
    {
     "data": {
      "application/vnd.jupyter.widget-view+json": {
       "model_id": "307587bcc3374b7dbef806b25f989f06",
       "version_major": 2,
       "version_minor": 0
      },
      "text/plain": [
       "0it [00:00, ?it/s]"
      ]
     },
     "metadata": {},
     "output_type": "display_data"
    },
    {
     "data": {
      "application/vnd.jupyter.widget-view+json": {
       "model_id": "1d0fe6a767a446ef8673a3064d0aa305",
       "version_major": 2,
       "version_minor": 0
      },
      "text/plain": [
       "0it [00:00, ?it/s]"
      ]
     },
     "metadata": {},
     "output_type": "display_data"
    },
    {
     "data": {
      "application/vnd.jupyter.widget-view+json": {
       "model_id": "9f9ac724dc394ffda9aff46fa80304f9",
       "version_major": 2,
       "version_minor": 0
      },
      "text/plain": [
       "0it [00:00, ?it/s]"
      ]
     },
     "metadata": {},
     "output_type": "display_data"
    },
    {
     "data": {
      "application/vnd.jupyter.widget-view+json": {
       "model_id": "c3462b7320ad4db3a32212fbde9b46dd",
       "version_major": 2,
       "version_minor": 0
      },
      "text/plain": [
       "0it [00:00, ?it/s]"
      ]
     },
     "metadata": {},
     "output_type": "display_data"
    },
    {
     "data": {
      "application/vnd.jupyter.widget-view+json": {
       "model_id": "82360d1231874fa5bba04e0be76f5f9f",
       "version_major": 2,
       "version_minor": 0
      },
      "text/plain": [
       "0it [00:00, ?it/s]"
      ]
     },
     "metadata": {},
     "output_type": "display_data"
    },
    {
     "data": {
      "application/vnd.jupyter.widget-view+json": {
       "model_id": "827e077590fd419cb5dceb2755e48132",
       "version_major": 2,
       "version_minor": 0
      },
      "text/plain": [
       "0it [00:00, ?it/s]"
      ]
     },
     "metadata": {},
     "output_type": "display_data"
    },
    {
     "data": {
      "application/vnd.jupyter.widget-view+json": {
       "model_id": "b28b3cc3f1cf44efa39dce050a9f9dcb",
       "version_major": 2,
       "version_minor": 0
      },
      "text/plain": [
       "0it [00:00, ?it/s]"
      ]
     },
     "metadata": {},
     "output_type": "display_data"
    },
    {
     "data": {
      "application/vnd.jupyter.widget-view+json": {
       "model_id": "bb183d0d523945639dc1cdfcd1aa6c47",
       "version_major": 2,
       "version_minor": 0
      },
      "text/plain": [
       "0it [00:00, ?it/s]"
      ]
     },
     "metadata": {},
     "output_type": "display_data"
    },
    {
     "data": {
      "application/vnd.jupyter.widget-view+json": {
       "model_id": "888ffafac43d411bab31d7b04f475077",
       "version_major": 2,
       "version_minor": 0
      },
      "text/plain": [
       "0it [00:00, ?it/s]"
      ]
     },
     "metadata": {},
     "output_type": "display_data"
    },
    {
     "data": {
      "application/vnd.jupyter.widget-view+json": {
       "model_id": "27d3624831e44bf599ac71bc90e257bf",
       "version_major": 2,
       "version_minor": 0
      },
      "text/plain": [
       "0it [00:00, ?it/s]"
      ]
     },
     "metadata": {},
     "output_type": "display_data"
    },
    {
     "data": {
      "application/vnd.jupyter.widget-view+json": {
       "model_id": "3118b3bbcf4f44a79999fa8ac134e25f",
       "version_major": 2,
       "version_minor": 0
      },
      "text/plain": [
       "0it [00:00, ?it/s]"
      ]
     },
     "metadata": {},
     "output_type": "display_data"
    },
    {
     "data": {
      "application/vnd.jupyter.widget-view+json": {
       "model_id": "26a39fba7d5b49899456358c7c1231bd",
       "version_major": 2,
       "version_minor": 0
      },
      "text/plain": [
       "0it [00:00, ?it/s]"
      ]
     },
     "metadata": {},
     "output_type": "display_data"
    },
    {
     "data": {
      "application/vnd.jupyter.widget-view+json": {
       "model_id": "6370634a43a64e63a6026fe816fd7577",
       "version_major": 2,
       "version_minor": 0
      },
      "text/plain": [
       "0it [00:00, ?it/s]"
      ]
     },
     "metadata": {},
     "output_type": "display_data"
    },
    {
     "data": {
      "application/vnd.jupyter.widget-view+json": {
       "model_id": "9842433fe33048ada3abf7ff76741b05",
       "version_major": 2,
       "version_minor": 0
      },
      "text/plain": [
       "0it [00:00, ?it/s]"
      ]
     },
     "metadata": {},
     "output_type": "display_data"
    },
    {
     "data": {
      "application/vnd.jupyter.widget-view+json": {
       "model_id": "30740c6ce0da4993896d635e878929f0",
       "version_major": 2,
       "version_minor": 0
      },
      "text/plain": [
       "0it [00:00, ?it/s]"
      ]
     },
     "metadata": {},
     "output_type": "display_data"
    },
    {
     "data": {
      "application/vnd.jupyter.widget-view+json": {
       "model_id": "524473eba42942da9d29994a83567946",
       "version_major": 2,
       "version_minor": 0
      },
      "text/plain": [
       "0it [00:00, ?it/s]"
      ]
     },
     "metadata": {},
     "output_type": "display_data"
    },
    {
     "data": {
      "application/vnd.jupyter.widget-view+json": {
       "model_id": "0222bc6c7c74413ba0522d440c1f6b06",
       "version_major": 2,
       "version_minor": 0
      },
      "text/plain": [
       "0it [00:00, ?it/s]"
      ]
     },
     "metadata": {},
     "output_type": "display_data"
    },
    {
     "data": {
      "application/vnd.jupyter.widget-view+json": {
       "model_id": "98ac9e20b43c4dc19ab7b5d00ae8177a",
       "version_major": 2,
       "version_minor": 0
      },
      "text/plain": [
       "0it [00:00, ?it/s]"
      ]
     },
     "metadata": {},
     "output_type": "display_data"
    },
    {
     "data": {
      "application/vnd.jupyter.widget-view+json": {
       "model_id": "3ae06360c87e4962a920619221e53d3e",
       "version_major": 2,
       "version_minor": 0
      },
      "text/plain": [
       "0it [00:00, ?it/s]"
      ]
     },
     "metadata": {},
     "output_type": "display_data"
    },
    {
     "data": {
      "application/vnd.jupyter.widget-view+json": {
       "model_id": "87b908b6c19042d8bc10ca24d7bf1f01",
       "version_major": 2,
       "version_minor": 0
      },
      "text/plain": [
       "0it [00:00, ?it/s]"
      ]
     },
     "metadata": {},
     "output_type": "display_data"
    },
    {
     "data": {
      "application/vnd.jupyter.widget-view+json": {
       "model_id": "3e20045686c04b7984733e1eaee01d73",
       "version_major": 2,
       "version_minor": 0
      },
      "text/plain": [
       "0it [00:00, ?it/s]"
      ]
     },
     "metadata": {},
     "output_type": "display_data"
    },
    {
     "data": {
      "application/vnd.jupyter.widget-view+json": {
       "model_id": "308eafc0613d4ed19897c412f5777e04",
       "version_major": 2,
       "version_minor": 0
      },
      "text/plain": [
       "0it [00:00, ?it/s]"
      ]
     },
     "metadata": {},
     "output_type": "display_data"
    },
    {
     "data": {
      "application/vnd.jupyter.widget-view+json": {
       "model_id": "17d3c321969641e88a98e418e3681c43",
       "version_major": 2,
       "version_minor": 0
      },
      "text/plain": [
       "0it [00:00, ?it/s]"
      ]
     },
     "metadata": {},
     "output_type": "display_data"
    },
    {
     "data": {
      "application/vnd.jupyter.widget-view+json": {
       "model_id": "862083c4a0ae42829d4241d9cbeee60a",
       "version_major": 2,
       "version_minor": 0
      },
      "text/plain": [
       "0it [00:00, ?it/s]"
      ]
     },
     "metadata": {},
     "output_type": "display_data"
    },
    {
     "data": {
      "application/vnd.jupyter.widget-view+json": {
       "model_id": "2cdc59f180ec43c5ac16868fcce9c647",
       "version_major": 2,
       "version_minor": 0
      },
      "text/plain": [
       "0it [00:00, ?it/s]"
      ]
     },
     "metadata": {},
     "output_type": "display_data"
    },
    {
     "data": {
      "application/vnd.jupyter.widget-view+json": {
       "model_id": "8499661c33824869a9e5c19efceaa7b0",
       "version_major": 2,
       "version_minor": 0
      },
      "text/plain": [
       "0it [00:00, ?it/s]"
      ]
     },
     "metadata": {},
     "output_type": "display_data"
    },
    {
     "data": {
      "application/vnd.jupyter.widget-view+json": {
       "model_id": "2b8853d4491c49aebaafa405dd31e889",
       "version_major": 2,
       "version_minor": 0
      },
      "text/plain": [
       "0it [00:00, ?it/s]"
      ]
     },
     "metadata": {},
     "output_type": "display_data"
    },
    {
     "data": {
      "application/vnd.jupyter.widget-view+json": {
       "model_id": "9f819de5315242be8ff931ccf1a557be",
       "version_major": 2,
       "version_minor": 0
      },
      "text/plain": [
       "0it [00:00, ?it/s]"
      ]
     },
     "metadata": {},
     "output_type": "display_data"
    },
    {
     "data": {
      "application/vnd.jupyter.widget-view+json": {
       "model_id": "ac51276ab4ee42c1b861f9bd1bbef495",
       "version_major": 2,
       "version_minor": 0
      },
      "text/plain": [
       "0it [00:00, ?it/s]"
      ]
     },
     "metadata": {},
     "output_type": "display_data"
    },
    {
     "data": {
      "application/vnd.jupyter.widget-view+json": {
       "model_id": "06df9f14494149338a146438e4b6d274",
       "version_major": 2,
       "version_minor": 0
      },
      "text/plain": [
       "0it [00:00, ?it/s]"
      ]
     },
     "metadata": {},
     "output_type": "display_data"
    },
    {
     "data": {
      "application/vnd.jupyter.widget-view+json": {
       "model_id": "819c4b4911eb46b78a74db60c7412927",
       "version_major": 2,
       "version_minor": 0
      },
      "text/plain": [
       "0it [00:00, ?it/s]"
      ]
     },
     "metadata": {},
     "output_type": "display_data"
    },
    {
     "data": {
      "application/vnd.jupyter.widget-view+json": {
       "model_id": "239aeac5081f4973b3ebbd94ceec25fc",
       "version_major": 2,
       "version_minor": 0
      },
      "text/plain": [
       "0it [00:00, ?it/s]"
      ]
     },
     "metadata": {},
     "output_type": "display_data"
    },
    {
     "data": {
      "application/vnd.jupyter.widget-view+json": {
       "model_id": "3e93f96e8b8e4e51b0b31eda362c0c6c",
       "version_major": 2,
       "version_minor": 0
      },
      "text/plain": [
       "0it [00:00, ?it/s]"
      ]
     },
     "metadata": {},
     "output_type": "display_data"
    },
    {
     "data": {
      "application/vnd.jupyter.widget-view+json": {
       "model_id": "451ede6e6e7149de8ebb982a055b7322",
       "version_major": 2,
       "version_minor": 0
      },
      "text/plain": [
       "0it [00:00, ?it/s]"
      ]
     },
     "metadata": {},
     "output_type": "display_data"
    }
   ],
   "source": [
    "# RUN THIS CELL\n",
    "# Initialize the inference object\n",
    "inference = VariableElimination(learned_network_bic)\n",
    "\n",
    "# Initialize lists to store true and predicted risks\n",
    "y_true, y_pred = [], []\n",
    "\n",
    "# Iterate over each sample in the validation set\n",
    "for sample in val_set.to_dict(orient='records'):\n",
    "    # Store the true Risk value\n",
    "    y_true.append(sample['Risk'])\n",
    "\n",
    "    # Prepare the evidence by excluding 'Risk'\n",
    "    evidence = {key: value for key, value in sample.items() if key != 'Risk' and key in learned_network_bic.nodes()}\n",
    "\n",
    "    # Perform MAP query to predict the most likely value for 'Risk'\n",
    "    predicted_risk = inference.map_query(variables=['Risk'], evidence=evidence)\n",
    "    \n",
    "    # Append the predicted risk to y_pred\n",
    "    y_pred.append(predicted_risk['Risk'])\n"
   ]
  },
  {
   "cell_type": "code",
   "execution_count": 36,
   "metadata": {},
   "outputs": [
    {
     "name": "stdout",
     "output_type": "stream",
     "text": [
      "Classification accuracy: 0.67\n"
     ]
    },
    {
     "data": {
      "text/plain": [
       "<sklearn.metrics._plot.confusion_matrix.ConfusionMatrixDisplay at 0x1eff1a452d0>"
      ]
     },
     "execution_count": 36,
     "metadata": {},
     "output_type": "execute_result"
    },
    {
     "data": {
      "image/png": "[encoded data removed]",
      "text/plain": [
       "<Figure size 640x480 with 2 Axes>"
      ]
     },
     "metadata": {},
     "output_type": "display_data"
    }
   ],
   "source": [
    "# RUN THIS CELL\n",
    "\n",
    "print(\"Classification accuracy:\" , accuracy_score(y_true, y_pred))\n",
    "ConfusionMatrixDisplay.from_predictions(y_true, y_pred)"
   ]
  },
  {
   "cell_type": "markdown",
   "metadata": {
    "id": "-wtMPNitUnka"
   },
   "source": [
    "**Question** The previous snipet plots a Confusion Matrix. Briefly explain what it means. <br>\n",
    "&rarr; The confusion matrix visualizes the performance of a classification model by displaying the number of correct and incorrect predictions across different classes. (FP, FN, TP,TN). Here, True positives, on bottom right (good predicted as good) – The model correctly predicted 61 instances as \"good.\"\n",
    "\n",
    "**Question** What is the link between the confusion matrix and the accuracy metric? <br>\n",
    "\n",
    "&rarr;\n",
    "Accuracy is given by Accuracy = (True postives + True negatives)/(Total number of predictions)\n",
    "***"
   ]
  },
  {
   "cell_type": "markdown",
   "metadata": {
    "id": "1172TIa--zd2"
   },
   "source": [
    "**Question** What would be False Positive and False Negative in this confusion matrix? Which one would you rather minimize if you were to work for a bank?\n",
    "\n",
    "&rarr;\n",
    "The model predicted \"good\" risk when the actual risk was \"bad\". There are 26 false positives (top right). This means that the bank would approve a credit, assuming the person is a good risk, but the person is actually a bad risk and more likely to default on the loan. This could lead to financial losses for the bank.\n",
    "<br>\n",
    "The model predicted \"bad\" risk when the actual risk was \"good\". There are 7 false negative (bottom left). This means that the bank would reject a loan, assuming the person is a bad risk, but the person is actually a good risk. This could lead to a missed opportunity for profit, as the bank would lose a reliable customer.\n",
    "\n",
    "***"
   ]
  },
  {
   "cell_type": "markdown",
   "metadata": {
    "id": "8Q_60QWM3cUL"
   },
   "source": [
    "We would like to compare the previous map_query predictive model to a standard machine learning model.\n",
    "\n",
    "We will use XGBoost, one of the main libraries of simple learning models based on \"boosting\" and specifically \"gradient boosting\" (https://xgboost.readthedocs.io/en/stable/).\n",
    "\n",
    "\n",
    "XGBoost is a library that can only manipulate numerical values. Columns \"Gender\", \"Housing\", \"Saving accounts\", \"Purpose\", and \"Risk\" contain strings, so we need to transform them. For each of these columns, the next cell creates a new column with suffix \"_numerical\" (i.e. \"Gender_numerical\"), where each of the string values is replaced by an integer. This can be done with `.apply`\n",
    "(https://pandas.pydata.org/docs/reference/api/pandas.Series.apply.html) and a function, or `.map` (https://pandas.pydata.org/docs/reference/api/pandas.Series.map.html) and a dictionary.\n"
   ]
  },
  {
   "cell_type": "code",
   "execution_count": 56,
   "metadata": {},
   "outputs": [
    {
     "data": {
      "text/html": [
       "<style>#sk-container-id-2 {color: black;}#sk-container-id-2 pre{padding: 0;}#sk-container-id-2 div.sk-toggleable {background-color: white;}#sk-container-id-2 label.sk-toggleable__label {cursor: pointer;display: block;width: 100%;margin-bottom: 0;padding: 0.3em;box-sizing: border-box;text-align: center;}#sk-container-id-2 label.sk-toggleable__label-arrow:before {content: \"▸\";float: left;margin-right: 0.25em;color: #696969;}#sk-container-id-2 label.sk-toggleable__label-arrow:hover:before {color: black;}#sk-container-id-2 div.sk-estimator:hover label.sk-toggleable__label-arrow:before {color: black;}#sk-container-id-2 div.sk-toggleable__content {max-height: 0;max-width: 0;overflow: hidden;text-align: left;background-color: #f0f8ff;}#sk-container-id-2 div.sk-toggleable__content pre {margin: 0.2em;color: black;border-radius: 0.25em;background-color: #f0f8ff;}#sk-container-id-2 input.sk-toggleable__control:checked~div.sk-toggleable__content {max-height: 200px;max-width: 100%;overflow: auto;}#sk-container-id-2 input.sk-toggleable__control:checked~label.sk-toggleable__label-arrow:before {content: \"▾\";}#sk-container-id-2 div.sk-estimator input.sk-toggleable__control:checked~label.sk-toggleable__label {background-color: #d4ebff;}#sk-container-id-2 div.sk-label input.sk-toggleable__control:checked~label.sk-toggleable__label {background-color: #d4ebff;}#sk-container-id-2 input.sk-hidden--visually {border: 0;clip: rect(1px 1px 1px 1px);clip: rect(1px, 1px, 1px, 1px);height: 1px;margin: -1px;overflow: hidden;padding: 0;position: absolute;width: 1px;}#sk-container-id-2 div.sk-estimator {font-family: monospace;background-color: #f0f8ff;border: 1px dotted black;border-radius: 0.25em;box-sizing: border-box;margin-bottom: 0.5em;}#sk-container-id-2 div.sk-estimator:hover {background-color: #d4ebff;}#sk-container-id-2 div.sk-parallel-item::after {content: \"\";width: 100%;border-bottom: 1px solid gray;flex-grow: 1;}#sk-container-id-2 div.sk-label:hover label.sk-toggleable__label {background-color: #d4ebff;}#sk-container-id-2 div.sk-serial::before {content: \"\";position: absolute;border-left: 1px solid gray;box-sizing: border-box;top: 0;bottom: 0;left: 50%;z-index: 0;}#sk-container-id-2 div.sk-serial {display: flex;flex-direction: column;align-items: center;background-color: white;padding-right: 0.2em;padding-left: 0.2em;position: relative;}#sk-container-id-2 div.sk-item {position: relative;z-index: 1;}#sk-container-id-2 div.sk-parallel {display: flex;align-items: stretch;justify-content: center;background-color: white;position: relative;}#sk-container-id-2 div.sk-item::before, #sk-container-id-2 div.sk-parallel-item::before {content: \"\";position: absolute;border-left: 1px solid gray;box-sizing: border-box;top: 0;bottom: 0;left: 50%;z-index: -1;}#sk-container-id-2 div.sk-parallel-item {display: flex;flex-direction: column;z-index: 1;position: relative;background-color: white;}#sk-container-id-2 div.sk-parallel-item:first-child::after {align-self: flex-end;width: 50%;}#sk-container-id-2 div.sk-parallel-item:last-child::after {align-self: flex-start;width: 50%;}#sk-container-id-2 div.sk-parallel-item:only-child::after {width: 0;}#sk-container-id-2 div.sk-dashed-wrapped {border: 1px dashed gray;margin: 0 0.4em 0.5em 0.4em;box-sizing: border-box;padding-bottom: 0.4em;background-color: white;}#sk-container-id-2 div.sk-label label {font-family: monospace;font-weight: bold;display: inline-block;line-height: 1.2em;}#sk-container-id-2 div.sk-label-container {text-align: center;}#sk-container-id-2 div.sk-container {/* jupyter's `normalize.less` sets `[hidden] { display: none; }` but bootstrap.min.css set `[hidden] { display: none !important; }` so we also need the `!important` here to be able to override the default hidden behavior on the sphinx rendered scikit-learn.org. See: https://github.com/scikit-learn/scikit-learn/issues/21755 */display: inline-block !important;position: relative;}#sk-container-id-2 div.sk-text-repr-fallback {display: none;}</style><div id=\"sk-container-id-2\" class=\"sk-top-container\"><div class=\"sk-text-repr-fallback\"><pre>DecisionTreeClassifier()</pre><b>In a Jupyter environment, please rerun this cell to show the HTML representation or trust the notebook. <br />On GitHub, the HTML representation is unable to render, please try loading this page with nbviewer.org.</b></div><div class=\"sk-container\" hidden><div class=\"sk-item\"><div class=\"sk-estimator sk-toggleable\"><input class=\"sk-toggleable__control sk-hidden--visually\" id=\"sk-estimator-id-2\" type=\"checkbox\" checked><label for=\"sk-estimator-id-2\" class=\"sk-toggleable__label sk-toggleable__label-arrow\">DecisionTreeClassifier</label><div class=\"sk-toggleable__content\"><pre>DecisionTreeClassifier()</pre></div></div></div></div></div>"
      ],
      "text/plain": [
       "DecisionTreeClassifier()"
      ]
     },
     "execution_count": 56,
     "metadata": {},
     "output_type": "execute_result"
    }
   ],
   "source": [
    "from sklearn.tree import DecisionTreeClassifier\n",
    "\n",
    "full_variables = [\"Purpose_numerical\", \"Saving accounts_numerical\", \"Housing_numerical\", \"Gender_numerical\", \"Credit History\", \"Age\", \"Job\", \"Credit amount\", \"Duration\"]\n",
    "\n",
    "# Separate features and target variable\n",
    "X_train = train_set[full_variables]\n",
    "y_train = train_set['Risk_numerical']\n",
    "\n",
    "# Train the model\n",
    "model = DecisionTreeClassifier()\n",
    "model.fit(X_train, y_train)\n"
   ]
  },
  {
   "cell_type": "code",
   "execution_count": 57,
   "metadata": {
    "id": "zBfzvHEI8Jhf"
   },
   "outputs": [],
   "source": [
    "# Run this cell.\n",
    "\n",
    "#method 1\n",
    "label_mapping = {'good': 0, 'bad': 1}\n",
    "val_set['Risk_numerical'] = val_set['Risk'].map(label_mapping)\n",
    "train_set['Risk_numerical'] = train_set['Risk'].map(label_mapping)\n",
    "\n",
    "#method 2\n",
    "label_mapping = dict([(value,index) for index,value in enumerate(german_credit[\"Gender\"].unique())])\n",
    "val_set['Gender_numerical'] = val_set['Gender'].map(label_mapping)\n",
    "train_set['Gender_numerical'] = train_set['Gender'].map(label_mapping)\n",
    "\n",
    "#method 3\n",
    "label_mapping = lambda x: german_credit[\"Housing\"].unique().tolist().index(x)\n",
    "val_set['Housing_numerical'] = val_set['Housing'].apply(label_mapping)\n",
    "train_set['Housing_numerical'] = train_set['Housing'].apply(label_mapping)\n",
    "\n",
    "label_mapping = lambda x: german_credit[\"Saving accounts\"].unique().tolist().index(x)\n",
    "val_set['Saving accounts_numerical'] = val_set['Saving accounts'].apply(label_mapping)\n",
    "train_set['Saving accounts_numerical'] = train_set['Saving accounts'].apply(label_mapping)\n",
    "\n",
    "label_mapping = lambda x: german_credit[\"Purpose\"].unique().tolist().index(x)\n",
    "val_set['Purpose_numerical'] = val_set['Purpose'].apply(label_mapping)\n",
    "train_set['Purpose_numerical'] = train_set['Purpose'].apply(label_mapping)"
   ]
  },
  {
   "cell_type": "markdown",
   "metadata": {
    "id": "evToR9OGJWpc"
   },
   "source": [
    "Run the next cell. Its purpose is to make XGBoost and Pandas aware of the categorical nature of some columns."
   ]
  },
  {
   "cell_type": "code",
   "execution_count": 58,
   "metadata": {
    "id": "n1_75tHyGZSM"
   },
   "outputs": [],
   "source": [
    "##  Run this cell.\n",
    "# Make sure that the column names correspond.\n",
    "\n",
    "train_set['Purpose_numerical'] = train_set['Purpose_numerical'].astype(\"category\")\n",
    "val_set['Purpose_numerical'] = val_set['Purpose_numerical'].astype(\"category\")\n",
    "train_set['Saving accounts_numerical'] = train_set['Saving accounts_numerical'].astype(\"category\")\n",
    "val_set['Saving accounts_numerical'] = val_set['Saving accounts_numerical'].astype(\"category\")\n",
    "train_set['Housing_numerical'] = train_set['Housing_numerical'].astype(\"category\")\n",
    "val_set['Housing_numerical'] = val_set['Housing_numerical'].astype(\"category\")\n",
    "train_set['Gender_numerical'] = train_set['Gender_numerical'].astype(\"category\")\n",
    "val_set['Gender_numerical'] = val_set['Gender_numerical'].astype(\"category\")\n",
    "train_set['Risk_numerical'] = train_set['Risk_numerical'].astype(\"category\")\n",
    "val_set['Risk_numerical'] = val_set['Risk_numerical'].astype(\"category\")\n",
    "train_set['Duration'] = train_set['Duration'].astype(\"category\")\n",
    "val_set['Duration'] = val_set['Duration'].astype(\"category\")\n",
    "train_set['Age'] = train_set['Age'].astype(\"category\")\n",
    "val_set['Age'] = val_set['Age'].astype(\"category\")\n",
    "train_set['Credit amount'] = train_set['Credit amount'].astype(\"category\")\n",
    "val_set['Credit amount'] = val_set['Credit amount'].astype(\"category\")"
   ]
  },
  {
   "cell_type": "markdown",
   "metadata": {
    "id": "1lp_8xiJKc7L"
   },
   "source": [
    "**TODO 3.2** In the next cell, create an XGBClassifier model (https://xgboost.readthedocs.io/en/stable/python/python_api.html#xgboost.XGBClassifier) with adequate parameter values. Train (`.fit`, https://xgboost.readthedocs.io/en/stable/python/python_api.html#xgboost.XGBClassifier.fit) on `train_set` with the columns `full_variables` to predict \"Risk_numerical\". Predict (`.predict`, https://xgboost.readthedocs.io/en/stable/python/python_api.html#xgboost.XGBClassifier.predict) on the validation set `val_set`, and store the result as `y_pred`.\n",
    "\n",
    "Hint: for categorical values to be handled, a parameter \"enable_categorical\" must be set to true at model declaration."
   ]
  },
  {
   "cell_type": "code",
   "execution_count": 59,
   "metadata": {
    "id": "YEzhK7HZ7FpN"
   },
   "outputs": [],
   "source": [
    "full_variables = [\"Purpose_numerical\", \"Saving accounts_numerical\", \"Housing_numerical\", \"Gender_numerical\", \"Credit History\", \"Age\", \"Job\", \"Credit amount\", \"Duration\"]\n",
    "\n",
    "## WRITE YOUR CODE BELOW\n",
    "X_val = val_set[full_variables]\n",
    "\n",
    "# Make predictions\n",
    "y_pred = model.predict(X_val)"
   ]
  },
  {
   "cell_type": "markdown",
   "metadata": {
    "id": "EyiyOjmmUha5"
   },
   "source": [
    "Run the next cell to evaluate the performance of the model."
   ]
  },
  {
   "cell_type": "code",
   "execution_count": 60,
   "metadata": {},
   "outputs": [
    {
     "name": "stdout",
     "output_type": "stream",
     "text": [
      "Classification accuracy: 0.61\n"
     ]
    },
    {
     "data": {
      "text/plain": [
       "<sklearn.metrics._plot.confusion_matrix.ConfusionMatrixDisplay at 0x1eff5477f50>"
      ]
     },
     "execution_count": 60,
     "metadata": {},
     "output_type": "execute_result"
    },
    {
     "data": {
      "image/png": "[encoded data removed]",
      "text/plain": [
       "<Figure size 640x480 with 2 Axes>"
      ]
     },
     "metadata": {},
     "output_type": "display_data"
    }
   ],
   "source": [
    "y_true = val_set[\"Risk_numerical\"].values\n",
    "print(\"Classification accuracy:\" , accuracy_score(y_true, y_pred))\n",
    "ConfusionMatrixDisplay.from_predictions(y_true, y_pred)"
   ]
  },
  {
   "cell_type": "markdown",
   "metadata": {
    "id": "VwcenSffSaIq"
   },
   "source": [
    "**TODO 3.3** Train and evaluate another XGBClassifier, this time with input data restricted to the markov blanket found in TODO 2.4."
   ]
  },
  {
   "cell_type": "code",
   "execution_count": 63,
   "metadata": {
    "id": "vNzGsQBRNI2i"
   },
   "outputs": [
    {
     "name": "stdout",
     "output_type": "stream",
     "text": [
      "Classification accuracy: 0.69\n"
     ]
    },
    {
     "name": "stderr",
     "output_type": "stream",
     "text": [
      "c:\\Users\\jack0\\AppData\\Local\\Programs\\Python\\Python311\\Lib\\site-packages\\xgboost\\core.py:158: UserWarning: [18:31:07] WARNING: C:\\buildkite-agent\\builds\\buildkite-windows-cpu-autoscaling-group-i-0015a694724fa8361-1\\xgboost\\xgboost-ci-windows\\src\\learner.cc:740: \n",
      "Parameters: { \"use_label_encoder\" } are not used.\n",
      "\n",
      "  warnings.warn(smsg, UserWarning)\n"
     ]
    },
    {
     "data": {
      "text/plain": [
       "<sklearn.metrics._plot.confusion_matrix.ConfusionMatrixDisplay at 0x1eff7331d50>"
      ]
     },
     "execution_count": 63,
     "metadata": {},
     "output_type": "execute_result"
    },
    {
     "data": {
      "image/png": "[encoded data removed]",
      "text/plain": [
       "<Figure size 640x480 with 2 Axes>"
      ]
     },
     "metadata": {},
     "output_type": "display_data"
    }
   ],
   "source": [
    "## WRITE YOUR CODE BELOW\n",
    "from xgboost import XGBClassifier\n",
    "from sklearn.metrics import accuracy_score, ConfusionMatrixDisplay\n",
    "\n",
    "# Markov blanket variables\n",
    "markov_blanket_variables = ['Duration', 'Saving accounts_numerical', 'Credit History']\n",
    "\n",
    "# Convert categorical columns to their integer codes\n",
    "train_set['Duration'] = train_set['Duration'].cat.codes\n",
    "val_set['Duration'] = val_set['Duration'].cat.codes\n",
    "\n",
    "train_set['Saving accounts_numerical'] = train_set['Saving accounts_numerical'].cat.codes\n",
    "val_set['Saving accounts_numerical'] = val_set['Saving accounts_numerical'].cat.codes\n",
    "\n",
    "# Prepare the training and validation sets with only Markov blanket features\n",
    "X_train_mb = train_set[markov_blanket_variables]\n",
    "y_train_mb = train_set['Risk_numerical']\n",
    "\n",
    "X_val_mb = val_set[markov_blanket_variables]\n",
    "y_val_mb = val_set['Risk_numerical']\n",
    "\n",
    "# Instantiate the XGBClassifier\n",
    "xgb_model_mb = XGBClassifier(use_label_encoder=False, eval_metric='logloss')\n",
    "\n",
    "# Train the model on the Markov blanket features\n",
    "xgb_model_mb.fit(X_train_mb, y_train_mb)\n",
    "\n",
    "# Make predictions on the validation set\n",
    "y_pred_mb = xgb_model_mb.predict(X_val_mb)\n",
    "\n",
    "# Print classification accuracy\n",
    "print(\"Classification accuracy:\", accuracy_score(y_val_mb, y_pred_mb))\n",
    "\n",
    "# Plot the confusion matrix\n",
    "ConfusionMatrixDisplay.from_predictions(y_val_mb, y_pred_mb)\n"
   ]
  },
  {
   "cell_type": "markdown",
   "metadata": {
    "id": "boCstzmKOu2N"
   },
   "source": [
    "**Question**: Conclude: did removing columns decrease the information on Risk contained by the dataset? Was this an expected behaviour? <br>\n",
    "\n",
    "&rarr; Removing the columns based on the Markov blanket did likely reduce the information available for predicting \"Risk\". <br> \n",
    "The Markov blanket includes only the directly relevant features, but it does not retain all information that might indirectly help the prediction. The performance seems weaker, as reflected by the higher number of misclassifications (e.g., 24 false negatives and 7 false positives).\n",
    "<br>\n",
    "This outcome was expected to some extent because, while the Markov blanket conceptually includes the most relevant variables for predicting the target, in practice, other features may still contribute to prediction through more complex relationships. We anticipated a drop in performance when fewer features are used.\n",
    "\n",
    "**Question**: Did removing column increase accuracy? Suggest an explanation why. <br>\n",
    "&rarr; Yes, removing columns did **increase a bit the accuracy**. The Markov blanket model has fewer, more relevant features, leading to potentially less noise and better generalization. The full feature set model could likely suffer from noise, redundant features, and possibly overfitting, which reduces its accuracy.\n",
    "\n",
    "**Question**: Conclude on the predictive performance of bayesian modeling versus XGBoost for this dataset.<br> \n",
    "&rarr; Bayesian approaches, which focus on probabilistic dependencies like the Markov blanket, are highly interpretable and mathematically rigorous. They identify the most direct predictors based on statistical relationships. However, for complex datasets with intricate feature interactions or noisy data, Bayesian models may underperform if only direct dependencies are considered.\n",
    "\n",
    "&rarr; On the other hand, XGBoost, a tree-based boosting algorithm, excels at capturing non-linear relationships and interactions between features. Based on the confusion matrices, the XGBoost model with all features outperforms the Bayesian approach (Markov blanket) in our use case here, demonstrating its superior predictive power on this dataset."
   ]
  }
 ],
 "metadata": {
  "colab": {
   "provenance": []
  },
  "kernelspec": {
   "display_name": "Python 3",
   "language": "python",
   "name": "python3"
  },
  "language_info": {
   "codemirror_mode": {
    "name": "ipython",
    "version": 3
   },
   "file_extension": ".py",
   "mimetype": "text/x-python",
   "name": "python",
   "nbconvert_exporter": "python",
   "pygments_lexer": "ipython3",
   "version": "3.11.4"
  }
 },
 "nbformat": 4,
 "nbformat_minor": 4
}
