{
 "cells": [
  {
   "cell_type": "markdown",
   "metadata": {},
   "source": [
    "### TP1 Clustering\n",
    "\n",
    "DU Jack - SIA\n",
    "02.10.2024"
   ]
  },
  {
   "cell_type": "markdown",
   "metadata": {},
   "source": [
    "#### Introduction\n",
    "\n",
    "In machine learning, clustering is related to unsupervised learning approaches in which the algorithm fits from the distribution of given data. The main advantage of such methods is detection\n",
    "without a priori of patterns, sorting data and detecting outliers.\n",
    "\n",
    "The given dataset is a combination of a dataset produced by the World Health Organization and the\n",
    "location of countries. It pooled the evolution of 23 features for 15 years among numerous countries.\n",
    "One of the goals of this TP3 is to detect continents and subcontinents.\n",
    "\n",
    "**Objectives :**\n",
    "- Visualize spatial datasets\n",
    "- Apply K-Means and GMM on spatial datasets\n",
    "- Normalize the datasets\n",
    "- Propose a methodology to detect specific pools of data"
   ]
  },
  {
   "cell_type": "code",
   "execution_count": null,
   "metadata": {},
   "outputs": [],
   "source": []
  }
 ],
 "metadata": {
  "language_info": {
   "name": "python"
  }
 },
 "nbformat": 4,
 "nbformat_minor": 2
}
