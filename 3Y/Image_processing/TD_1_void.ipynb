{
  "cells": [
    {
      "cell_type": "markdown",
      "metadata": {},
      "source": [
        "*Last update: 2024.09.20*"
      ]
    },
    {
      "cell_type": "code",
      "execution_count": 1,
      "metadata": {
        "id": "cIWIr4yk-acl"
      },
      "outputs": [],
      "source": [
        "import numpy as np\n",
        "from PIL import Image, ImageOps\n",
        "import matplotlib.pyplot as plt\n",
        "from scipy import ndimage"
      ]
    },
    {
      "cell_type": "code",
      "execution_count": 2,
      "metadata": {
        "id": "DiYDbe37-act"
      },
      "outputs": [],
      "source": [
        "%matplotlib inline"
      ]
    },
    {
      "cell_type": "code",
      "execution_count": 3,
      "metadata": {
        "id": "Q3WRnzDr-acz"
      },
      "outputs": [],
      "source": [
        "# utils\n",
        "\n",
        "def load_image(filename, as_gray=False, as_float=False):\n",
        "    if as_gray:\n",
        "        a = np.asarray(Image.open(filename).convert('L'))\n",
        "    else:\n",
        "        a = np.asarray(Image.open(filename))\n",
        "    if as_float:\n",
        "        return a.astype(np.float) / 255\n",
        "    else:\n",
        "        return a\n",
        "\n",
        "def display_image(im, as_gray=False, title=None):\n",
        "    plt.figure(figsize=(9,4))\n",
        "    if as_gray:\n",
        "        plt.imshow(im, cmap='gray')\n",
        "    else:\n",
        "        plt.imshow(im)\n",
        "    if title is not None:\n",
        "        plt.title(title)\n",
        "\n",
        "def display_vec(v, title=None):\n",
        "    plt.figure(figsize=(9,4))\n",
        "    plt.plot(v)\n",
        "    if title is not None:\n",
        "        plt.title(title)"
      ]
    },
    {
      "cell_type": "code",
      "execution_count": 8,
      "metadata": {},
      "outputs": [
        {
          "ename": "NameError",
          "evalue": "name 'Lenna_image' is not defined",
          "output_type": "error",
          "traceback": [
            "\u001b[1;31m---------------------------------------------------------------------------\u001b[0m",
            "\u001b[1;31mNameError\u001b[0m                                 Traceback (most recent call last)",
            "Cell \u001b[1;32mIn[8], line 1\u001b[0m\n\u001b[1;32m----> 1\u001b[0m im \u001b[38;5;241m=\u001b[39m Image\u001b[38;5;241m.\u001b[39mopen(\u001b[43mLenna_image\u001b[49m\u001b[38;5;241m.\u001b[39mpng)\n",
            "\u001b[1;31mNameError\u001b[0m: name 'Lenna_image' is not defined"
          ]
        }
      ],
      "source": [
        "img_path = Lenna_image.png\n",
        "img = Image.open(Lenna_image.png)"
      ]
    },
    {
      "cell_type": "code",
      "execution_count": null,
      "metadata": {
        "id": "oOseWGIa-adB"
      },
      "outputs": [],
      "source": [
        "# syntax examples\n",
        "\n",
        "range(10) # 0..9\n",
        "range(1,10) # 1..9\n",
        "\n",
        "# loop in image\n",
        "for i in range(im.shape[0]):\n",
        "    for j in range(im.shape[1]):\n",
        "        v = im[i,j]\n",
        "\n",
        "# create vector, matrix\n",
        "np.zeros((3,), dtype=np.int)\n",
        "np.zeros((3,4), dtype=np.int)\n",
        "\n",
        "# get element count\n",
        "im.size\n",
        "\n",
        "# define function\n",
        "def f(arg):\n",
        "    return 0"
      ]
    },
    {
      "cell_type": "code",
      "execution_count": null,
      "metadata": {
        "id": "8XQA6l0C-adG"
      },
      "outputs": [],
      "source": [
        "# define functions (with loops):\n",
        "#   hist(im) -> H\n",
        "#   cdf(H) -> v\n",
        "#   hist_equalize(im) -> im\n",
        "#\n",
        "# display results\n",
        "#\n",
        "# optional: implement contrast augmentation: remove lower/upper 5% of values, remap others linearly to [0,255]"
      ]
    },
    {
      "cell_type": "code",
      "execution_count": null,
      "metadata": {
        "id": "da5P8KKt0XuE"
      },
      "outputs": [],
      "source": [
        "def hist(im):\n",
        "    H = np.zeros((256,), dtype=np.int)\n",
        "    ##\n",
        "    return H\n",
        "\n",
        "display_vec(hist(im), title='hist')"
      ]
    },
    {
      "cell_type": "code",
      "execution_count": null,
      "metadata": {
        "id": "WuP0KyyI0bI1"
      },
      "outputs": [],
      "source": [
        "def cdf(H):\n",
        "    Hcum = np.zeros_like(H)\n",
        "    ##\n",
        "    return Hcum / ##\n",
        "\n",
        "display_vec(cdf(hist(im)), title='cdf')"
      ]
    },
    {
      "cell_type": "code",
      "execution_count": null,
      "metadata": {
        "id": "c-TBDXFD0dLg"
      },
      "outputs": [],
      "source": [
        "def hist_eq(im):\n",
        "    H = hist(im)\n",
        "    Hcum = cdf(H)\n",
        "    for i in range(256):\n",
        "        Hcum[i] = ##\n",
        "    im_eq = im.copy()\n",
        "    for i in range(im.shape[0]):\n",
        "        for j in range(im.shape[1]):\n",
        "            ##\n",
        "    return im_eq\n",
        "\n",
        "display_vec(hist(hist_eq(im)), title='equalized hist')\n",
        "display_vec(cdf(hist(hist_eq(im))), title='equalized cdf')\n",
        "display_image(hist_eq(im), title='equalized im')"
      ]
    },
    {
      "cell_type": "code",
      "execution_count": null,
      "metadata": {
        "id": "2VqaXADB-adJ"
      },
      "outputs": [],
      "source": [
        "# implement convolution with loops, uneven filter size\n",
        "\n",
        "def conv(im, filt):\n",
        "    im_conv = np.zeros_like(im)\n",
        "    for i in range(im_conv.shape[0]):\n",
        "        for j in range(im_conv.shape[1]):\n",
        "            v = 0\n",
        "            ##\n",
        "                ##\n",
        "                    if y >= 0 and x >= 0 and y < im.shape[0] and x < im.shape[1]:\n",
        "                        v += ##\n",
        "            im_conv[i,j] = v\n",
        "    return im_conv\n",
        "\n",
        "gx = conv(im.astype(int), np.asarray([[1, 0, -1]]))\n",
        "display_image(gx)\n",
        "\n",
        "# what happens if we omit \"astype(int)\"?"
      ]
    },
    {
      "cell_type": "code",
      "execution_count": null,
      "metadata": {
        "id": "4fOFxgrX-adN"
      },
      "outputs": [],
      "source": [
        "# we'll now use scipy.ndimage.filters.convolve, way faster\n",
        "from scipy.ndimage.filters import convolve"
      ]
    },
    {
      "cell_type": "code",
      "execution_count": null,
      "metadata": {
        "id": "sBL-KE6M-adR"
      },
      "outputs": [],
      "source": [
        "# Sobel filter: gx, gy, norm (np.sqrt), angle (np.arctan2)\n",
        "gx = convolve(im.astype(np.int), np.asarray(\n",
        "    [[##,##,##],\n",
        "     [##,##,##],\n",
        "     [##,##,##]]\n",
        "))\n",
        "gy = convolve(im.astype(np.int), np.asarray(\n",
        "    [[##,##,##],\n",
        "     [##,##,##],\n",
        "     [##,##,##]])\n",
        "display_image(gy, as_gray=True)\n",
        "\n",
        "gn = ##\n",
        "display_image(gn, as_gray=True)\n",
        "ga = ##\n",
        "display_image(ga)"
      ]
    },
    {
      "cell_type": "code",
      "execution_count": null,
      "metadata": {
        "id": "659C6Tu5-3I5"
      },
      "outputs": [],
      "source": []
    }
  ],
  "metadata": {
    "colab": {
      "provenance": []
    },
    "kernelspec": {
      "display_name": "Python 3",
      "language": "python",
      "name": "python3"
    },
    "language_info": {
      "codemirror_mode": {
        "name": "ipython",
        "version": 3
      },
      "file_extension": ".py",
      "mimetype": "text/x-python",
      "name": "python",
      "nbconvert_exporter": "python",
      "pygments_lexer": "ipython3",
      "version": "3.11.4"
    }
  },
  "nbformat": 4,
  "nbformat_minor": 0
}
